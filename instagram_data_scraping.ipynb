{
 "cells": [
  {
   "cell_type": "code",
   "execution_count": 42,
   "id": "380a5c45-b859-42cf-8b3e-b5c8bf9dff12",
   "metadata": {},
   "outputs": [],
   "source": [
    "from selenium import webdriver\n",
    "import time\n",
    "import pandas as pd\n",
    "from selenium.webdriver.common.by import By\n",
    "from selenium.webdriver.chrome.service import Service\n",
    "from selenium.webdriver.support.ui import WebDriverWait\n",
    "from selenium.webdriver.support import expected_conditions as EC\n",
    "from selenium.webdriver.common.keys import Keys\n",
    "import credentials\n",
    "from selenium.webdriver.chrome.options import Options"
   ]
  },
  {
   "cell_type": "code",
   "execution_count": 43,
   "id": "71eb104f-eafc-469b-a251-9cc19bcd17c8",
   "metadata": {},
   "outputs": [],
   "source": [
    "def create_webdriver():\n",
    "    service = Service('./chromedriver')\n",
    "    driver = webdriver.Chrome(service=service)\n",
    "    return driver"
   ]
  },
  {
   "cell_type": "code",
   "execution_count": 44,
   "id": "2558a430-2beb-4e27-9857-fbac92182057",
   "metadata": {
    "tags": []
   },
   "outputs": [],
   "source": [
    "def login_instagram(driver):\n",
    "    driver.get('https://www.instagram.com/')\n",
    "    username_input = WebDriverWait(driver, 10).until(EC.presence_of_element_located((By.CSS_SELECTOR, \"input[name='username']\")))\n",
    "    password_input = WebDriverWait(driver, 10).until(EC.presence_of_element_located((By.CSS_SELECTOR, \"input[name='password']\")))\n",
    "    username_input.send_keys(credentials.USER_NAME)\n",
    "    password_input.send_keys(credentials.PASSWORD)\n",
    "    password_input.send_keys(Keys.RETURN)\n",
    "    not_now = WebDriverWait(driver, 10).until(EC.presence_of_element_located((By.XPATH, '//button[@class=\"_a9-- _a9_1\"]')))\n",
    "    not_now.click()\n",
    "    return driver"
   ]
  },
  {
   "cell_type": "code",
   "execution_count": 45,
   "id": "a6475908-1c12-435e-99ac-5e0a9dac02be",
   "metadata": {},
   "outputs": [],
   "source": [
    "def get_hashtags(file_path):\n",
    "    data = pd.read_csv(file_path)\n",
    "    hashtags = data['hashtag']\n",
    "    hashtag_list = list(hashtags.sample(frac = 1))\n",
    "    return hashtag_list"
   ]
  },
  {
   "cell_type": "code",
   "execution_count": 46,
   "id": "07accf1c-3945-40d1-9a4b-a9062bed0b2b",
   "metadata": {},
   "outputs": [],
   "source": [
    "def get_hashtag_data(hashtag,driver):\n",
    "    num_posts = 9\n",
    "    driver.get(f'https://www.instagram.com/explore/tags/{hashtag}/')\n",
    "    post = WebDriverWait(driver, 10).until(EC.presence_of_element_located((By.XPATH, '//div[@class=\"_aabd _aa8k  _al3l\"]')))\n",
    "    post.click()\n",
    "    time.sleep(2)\n",
    "    posts = []\n",
    "    for i in range(num_posts):\n",
    "        post = {}\n",
    "        given_hashtags = driver.find_elements(By.XPATH, '//a[@class=\"x1i10hfl xjbqb8w x6umtig x1b1mbwd xaqea5y xav7gou x9f619 x1ypdohk xt0psk2 xe8uvvx xdj266r x11i5rnm xat24cr x1mh8g0r xexx8yu x4uap5 x18d9i69 xkhd6sd x16tdsg8 x1hl2dhg xggy1nq x1a2a7pz  _aa9_ _a6hd\"]')\n",
    "        img = driver.find_elements(By.XPATH, '//img[@class=\"x5yr21d xu96u03 x10l6tqk x13vifvy x87ps6o xh8yej3\"]')\n",
    "        img = img[i]\n",
    "        post['hashtag'] = hashtag\n",
    "        post['other_hashtags'] = [i.text for i in given_hashtags]\n",
    "        post['image_url'] = img.get_attribute('src')\n",
    "        post['caption'] = img.get_attribute('alt')\n",
    "        if(post['caption'] != ''):\n",
    "            posts.append(post)\n",
    "        try:\n",
    "            driver.find_elements(By.XPATH, '//div[@class=\" _aaqg _aaqh\"]')[-1].click()\n",
    "        except:\n",
    "            print('early')\n",
    "        time.sleep(5)\n",
    "        img = None\n",
    "    return pd.DataFrame(posts)"
   ]
  },
  {
   "cell_type": "code",
   "execution_count": 47,
   "id": "02204689-e5f6-4de6-b8cd-048f2a19ebd7",
   "metadata": {},
   "outputs": [],
   "source": [
    "driver = create_webdriver()"
   ]
  },
  {
   "cell_type": "code",
   "execution_count": 48,
   "id": "2311eba5-591e-4401-b9df-3a546918f6bf",
   "metadata": {},
   "outputs": [
    {
     "ename": "TimeoutException",
     "evalue": "Message: \nStacktrace:\nBacktrace:\n\tGetHandleVerifier [0x00B2A813+48355]\n\t(No symbol) [0x00ABC4B1]\n\t(No symbol) [0x009C5358]\n\t(No symbol) [0x009F09A5]\n\t(No symbol) [0x009F0B3B]\n\t(No symbol) [0x00A1E232]\n\t(No symbol) [0x00A0A784]\n\t(No symbol) [0x00A1C922]\n\t(No symbol) [0x00A0A536]\n\t(No symbol) [0x009E82DC]\n\t(No symbol) [0x009E93DD]\n\tGetHandleVerifier [0x00D8AABD+2539405]\n\tGetHandleVerifier [0x00DCA78F+2800735]\n\tGetHandleVerifier [0x00DC456C+2775612]\n\tGetHandleVerifier [0x00BB51E0+616112]\n\t(No symbol) [0x00AC5F8C]\n\t(No symbol) [0x00AC2328]\n\t(No symbol) [0x00AC240B]\n\t(No symbol) [0x00AB4FF7]\n\tBaseThreadInitThunk [0x77617D59+25]\n\tRtlInitializeExceptionChain [0x77D6B74B+107]\n\tRtlClearBits [0x77D6B6CF+191]\n",
     "output_type": "error",
     "traceback": [
      "\u001b[1;31m---------------------------------------------------------------------------\u001b[0m",
      "\u001b[1;31mTimeoutException\u001b[0m                          Traceback (most recent call last)",
      "\u001b[1;32m~\\AppData\\Local\\Temp\\ipykernel_19280\\3120613360.py\u001b[0m in \u001b[0;36m<cell line: 1>\u001b[1;34m()\u001b[0m\n\u001b[1;32m----> 1\u001b[1;33m \u001b[0mdriver\u001b[0m \u001b[1;33m=\u001b[0m \u001b[0mlogin_instagram\u001b[0m\u001b[1;33m(\u001b[0m\u001b[0mdriver\u001b[0m\u001b[1;33m)\u001b[0m\u001b[1;33m\u001b[0m\u001b[1;33m\u001b[0m\u001b[0m\n\u001b[0m",
      "\u001b[1;32m~\\AppData\\Local\\Temp\\ipykernel_19280\\429560347.py\u001b[0m in \u001b[0;36mlogin_instagram\u001b[1;34m(driver)\u001b[0m\n\u001b[0;32m      6\u001b[0m     \u001b[0mpassword_input\u001b[0m\u001b[1;33m.\u001b[0m\u001b[0msend_keys\u001b[0m\u001b[1;33m(\u001b[0m\u001b[0mcredentials\u001b[0m\u001b[1;33m.\u001b[0m\u001b[0mPASSWORD\u001b[0m\u001b[1;33m)\u001b[0m\u001b[1;33m\u001b[0m\u001b[1;33m\u001b[0m\u001b[0m\n\u001b[0;32m      7\u001b[0m     \u001b[0mpassword_input\u001b[0m\u001b[1;33m.\u001b[0m\u001b[0msend_keys\u001b[0m\u001b[1;33m(\u001b[0m\u001b[0mKeys\u001b[0m\u001b[1;33m.\u001b[0m\u001b[0mRETURN\u001b[0m\u001b[1;33m)\u001b[0m\u001b[1;33m\u001b[0m\u001b[1;33m\u001b[0m\u001b[0m\n\u001b[1;32m----> 8\u001b[1;33m     \u001b[0mnot_now\u001b[0m \u001b[1;33m=\u001b[0m \u001b[0mWebDriverWait\u001b[0m\u001b[1;33m(\u001b[0m\u001b[0mdriver\u001b[0m\u001b[1;33m,\u001b[0m \u001b[1;36m10\u001b[0m\u001b[1;33m)\u001b[0m\u001b[1;33m.\u001b[0m\u001b[0muntil\u001b[0m\u001b[1;33m(\u001b[0m\u001b[0mEC\u001b[0m\u001b[1;33m.\u001b[0m\u001b[0mpresence_of_element_located\u001b[0m\u001b[1;33m(\u001b[0m\u001b[1;33m(\u001b[0m\u001b[0mBy\u001b[0m\u001b[1;33m.\u001b[0m\u001b[0mXPATH\u001b[0m\u001b[1;33m,\u001b[0m \u001b[1;34m'//button[@class=\"_a9-- _a9_1\"]'\u001b[0m\u001b[1;33m)\u001b[0m\u001b[1;33m)\u001b[0m\u001b[1;33m)\u001b[0m\u001b[1;33m\u001b[0m\u001b[1;33m\u001b[0m\u001b[0m\n\u001b[0m\u001b[0;32m      9\u001b[0m     \u001b[0mnot_now\u001b[0m\u001b[1;33m.\u001b[0m\u001b[0mclick\u001b[0m\u001b[1;33m(\u001b[0m\u001b[1;33m)\u001b[0m\u001b[1;33m\u001b[0m\u001b[1;33m\u001b[0m\u001b[0m\n\u001b[0;32m     10\u001b[0m     \u001b[1;32mreturn\u001b[0m \u001b[0mdriver\u001b[0m\u001b[1;33m\u001b[0m\u001b[1;33m\u001b[0m\u001b[0m\n",
      "\u001b[1;32mA:\\Anaconda\\lib\\site-packages\\selenium\\webdriver\\support\\wait.py\u001b[0m in \u001b[0;36muntil\u001b[1;34m(self, method, message)\u001b[0m\n\u001b[0;32m     93\u001b[0m             \u001b[1;32mif\u001b[0m \u001b[0mtime\u001b[0m\u001b[1;33m.\u001b[0m\u001b[0mmonotonic\u001b[0m\u001b[1;33m(\u001b[0m\u001b[1;33m)\u001b[0m \u001b[1;33m>\u001b[0m \u001b[0mend_time\u001b[0m\u001b[1;33m:\u001b[0m\u001b[1;33m\u001b[0m\u001b[1;33m\u001b[0m\u001b[0m\n\u001b[0;32m     94\u001b[0m                 \u001b[1;32mbreak\u001b[0m\u001b[1;33m\u001b[0m\u001b[1;33m\u001b[0m\u001b[0m\n\u001b[1;32m---> 95\u001b[1;33m         \u001b[1;32mraise\u001b[0m \u001b[0mTimeoutException\u001b[0m\u001b[1;33m(\u001b[0m\u001b[0mmessage\u001b[0m\u001b[1;33m,\u001b[0m \u001b[0mscreen\u001b[0m\u001b[1;33m,\u001b[0m \u001b[0mstacktrace\u001b[0m\u001b[1;33m)\u001b[0m\u001b[1;33m\u001b[0m\u001b[1;33m\u001b[0m\u001b[0m\n\u001b[0m\u001b[0;32m     96\u001b[0m \u001b[1;33m\u001b[0m\u001b[0m\n\u001b[0;32m     97\u001b[0m     \u001b[1;32mdef\u001b[0m \u001b[0muntil_not\u001b[0m\u001b[1;33m(\u001b[0m\u001b[0mself\u001b[0m\u001b[1;33m,\u001b[0m \u001b[0mmethod\u001b[0m\u001b[1;33m,\u001b[0m \u001b[0mmessage\u001b[0m\u001b[1;33m:\u001b[0m \u001b[0mstr\u001b[0m \u001b[1;33m=\u001b[0m \u001b[1;34m\"\"\u001b[0m\u001b[1;33m)\u001b[0m\u001b[1;33m:\u001b[0m\u001b[1;33m\u001b[0m\u001b[1;33m\u001b[0m\u001b[0m\n",
      "\u001b[1;31mTimeoutException\u001b[0m: Message: \nStacktrace:\nBacktrace:\n\tGetHandleVerifier [0x00B2A813+48355]\n\t(No symbol) [0x00ABC4B1]\n\t(No symbol) [0x009C5358]\n\t(No symbol) [0x009F09A5]\n\t(No symbol) [0x009F0B3B]\n\t(No symbol) [0x00A1E232]\n\t(No symbol) [0x00A0A784]\n\t(No symbol) [0x00A1C922]\n\t(No symbol) [0x00A0A536]\n\t(No symbol) [0x009E82DC]\n\t(No symbol) [0x009E93DD]\n\tGetHandleVerifier [0x00D8AABD+2539405]\n\tGetHandleVerifier [0x00DCA78F+2800735]\n\tGetHandleVerifier [0x00DC456C+2775612]\n\tGetHandleVerifier [0x00BB51E0+616112]\n\t(No symbol) [0x00AC5F8C]\n\t(No symbol) [0x00AC2328]\n\t(No symbol) [0x00AC240B]\n\t(No symbol) [0x00AB4FF7]\n\tBaseThreadInitThunk [0x77617D59+25]\n\tRtlInitializeExceptionChain [0x77D6B74B+107]\n\tRtlClearBits [0x77D6B6CF+191]\n"
     ]
    }
   ],
   "source": [
    "driver = login_instagram(driver)"
   ]
  },
  {
   "cell_type": "code",
   "execution_count": 8,
   "id": "62af062b-d969-4224-ba66-cfc392fa537c",
   "metadata": {},
   "outputs": [],
   "source": [
    "# hashtag_list = get_hashtags('hashtag_vocab_new.csv')"
   ]
  },
  {
   "cell_type": "code",
   "execution_count": 49,
   "id": "7aa12675-c84c-4400-bb06-461ac4a5176e",
   "metadata": {},
   "outputs": [],
   "source": [
    "hashtag_list = pd.read_csv('hashtags_shuffled.csv')"
   ]
  },
  {
   "cell_type": "code",
   "execution_count": 50,
   "id": "9e234fa6-3083-4e91-8b56-85a2a852e84e",
   "metadata": {},
   "outputs": [],
   "source": [
    "hashtag_list = hashtag_list['0'].to_list()"
   ]
  },
  {
   "cell_type": "code",
   "execution_count": 57,
   "id": "308b3c3f-7a3d-4a57-b515-33c57010d321",
   "metadata": {},
   "outputs": [
    {
     "data": {
      "text/plain": [
       "'#bitcoinmining'"
      ]
     },
     "execution_count": 57,
     "metadata": {},
     "output_type": "execute_result"
    }
   ],
   "source": [
    "hashtag_list[591]"
   ]
  },
  {
   "cell_type": "code",
   "execution_count": null,
   "id": "6aa5e816-a598-4abb-91c1-a68019b0832a",
   "metadata": {},
   "outputs": [],
   "source": [
    "INSTAGRAM_DATA = pd.DataFrame(columns=['hashtag','image_url','caption','other_hashtags'])\n",
    "for i in hashtag_list[591:]:\n",
    "    hashtag_data = get_hashtag_data(i[1:],driver)\n",
    "    INSTAGRAM_DATA = pd.concat([INSTAGRAM_DATA,hashtag_data],ignore_index=True)"
   ]
  },
  {
   "cell_type": "code",
   "execution_count": 53,
   "id": "3078eeae-244e-4b5d-a510-3e3ef5ce9a98",
   "metadata": {},
   "outputs": [
    {
     "data": {
      "text/html": [
       "<div>\n",
       "<style scoped>\n",
       "    .dataframe tbody tr th:only-of-type {\n",
       "        vertical-align: middle;\n",
       "    }\n",
       "\n",
       "    .dataframe tbody tr th {\n",
       "        vertical-align: top;\n",
       "    }\n",
       "\n",
       "    .dataframe thead th {\n",
       "        text-align: right;\n",
       "    }\n",
       "</style>\n",
       "<table border=\"1\" class=\"dataframe\">\n",
       "  <thead>\n",
       "    <tr style=\"text-align: right;\">\n",
       "      <th></th>\n",
       "      <th>hashtag</th>\n",
       "      <th>image_url</th>\n",
       "      <th>caption</th>\n",
       "      <th>other_hashtags</th>\n",
       "    </tr>\n",
       "  </thead>\n",
       "  <tbody>\n",
       "    <tr>\n",
       "      <th>0</th>\n",
       "      <td>fashionblogger</td>\n",
       "      <td>https://instagram.fnag1-1.fna.fbcdn.net/v/t51....</td>\n",
       "      <td>Photo by Naaरी-Attire Hub on July 06, 2023. Ma...</td>\n",
       "      <td>[#fashion, #fashionblogger, #fashionista, #fas...</td>\n",
       "    </tr>\n",
       "    <tr>\n",
       "      <th>1</th>\n",
       "      <td>autumn</td>\n",
       "      <td>https://instagram.fnag1-4.fna.fbcdn.net/v/t51....</td>\n",
       "      <td>Photo by 𝙚𝙛𝙛𝙮 &amp; 𝙖𝙡𝙮 on July 05, 2023. May be a...</td>\n",
       "      <td>[#autumn, #autumnvibes, #autumnvibes🍁, #autumn...</td>\n",
       "    </tr>\n",
       "    <tr>\n",
       "      <th>2</th>\n",
       "      <td>autumn</td>\n",
       "      <td>https://instagram.fnag1-1.fna.fbcdn.net/v/t51....</td>\n",
       "      <td>Photo by dazeoffall on July 05, 2023. May be a...</td>\n",
       "      <td>[#halloween, #autumn, #fall, #pumpkins, #hallo...</td>\n",
       "    </tr>\n",
       "    <tr>\n",
       "      <th>3</th>\n",
       "      <td>autumn</td>\n",
       "      <td>https://instagram.fnag1-4.fna.fbcdn.net/v/t51....</td>\n",
       "      <td>Photo by Autumn Landscapes on July 06, 2023. M...</td>\n",
       "      <td>[#autumn, #fall, #trees, #seasons, #colors, #l...</td>\n",
       "    </tr>\n",
       "    <tr>\n",
       "      <th>4</th>\n",
       "      <td>autumn</td>\n",
       "      <td>https://instagram.fnag1-5.fna.fbcdn.net/v/t51....</td>\n",
       "      <td>Photo by Danielle on July 05, 2023. May be an ...</td>\n",
       "      <td>[#spooky, #icedcoffee, #autumn, #fall, #pumpki...</td>\n",
       "    </tr>\n",
       "    <tr>\n",
       "      <th>...</th>\n",
       "      <td>...</td>\n",
       "      <td>...</td>\n",
       "      <td>...</td>\n",
       "      <td>...</td>\n",
       "    </tr>\n",
       "    <tr>\n",
       "      <th>378</th>\n",
       "      <td>halloweenmakeup</td>\n",
       "      <td>https://instagram.fnag1-1.fna.fbcdn.net/v/t51....</td>\n",
       "      <td>Photo by Fall &amp; Halloween🎃🍁 in Miami, Florida....</td>\n",
       "      <td>[#halloween, #halloweentime, #halloweendecor, ...</td>\n",
       "    </tr>\n",
       "    <tr>\n",
       "      <th>379</th>\n",
       "      <td>halloweenmakeup</td>\n",
       "      <td>https://instagram.fnag1-3.fna.fbcdn.net/v/t51....</td>\n",
       "      <td>Photo shared by October Curiosi-teas on July 0...</td>\n",
       "      <td>[#Halloween, #HalloweenUK, #HalloweenDecor, #H...</td>\n",
       "    </tr>\n",
       "    <tr>\n",
       "      <th>380</th>\n",
       "      <td>halloweenmakeup</td>\n",
       "      <td>https://instagram.fnag1-1.fna.fbcdn.net/v/t51....</td>\n",
       "      <td>Photo shared by O C T O B E R  D A I L Y on Ju...</td>\n",
       "      <td>[#halloween, #spooky, #horror, #october, #art,...</td>\n",
       "    </tr>\n",
       "    <tr>\n",
       "      <th>381</th>\n",
       "      <td>halloweenmakeup</td>\n",
       "      <td>https://instagram.fnag1-4.fna.fbcdn.net/v/t51....</td>\n",
       "      <td>Photo by Fall &amp; Halloween🎃🍁 in Miami, Florida....</td>\n",
       "      <td>[#halloween, #halloweentime, #halloweendecor, ...</td>\n",
       "    </tr>\n",
       "    <tr>\n",
       "      <th>382</th>\n",
       "      <td>halloweenmakeup</td>\n",
       "      <td>https://instagram.fnag1-4.fna.fbcdn.net/v/t51....</td>\n",
       "      <td>Photo by ⠀⠀⠀⠀⠀⠀⠀⠀⠀ATTITUDE CLOTHING Co. on Jun...</td>\n",
       "      <td>[#halloween, #halloweeneveryday, #halloweendec...</td>\n",
       "    </tr>\n",
       "  </tbody>\n",
       "</table>\n",
       "<p>383 rows × 4 columns</p>\n",
       "</div>"
      ],
      "text/plain": [
       "             hashtag                                          image_url  \\\n",
       "0     fashionblogger  https://instagram.fnag1-1.fna.fbcdn.net/v/t51....   \n",
       "1             autumn  https://instagram.fnag1-4.fna.fbcdn.net/v/t51....   \n",
       "2             autumn  https://instagram.fnag1-1.fna.fbcdn.net/v/t51....   \n",
       "3             autumn  https://instagram.fnag1-4.fna.fbcdn.net/v/t51....   \n",
       "4             autumn  https://instagram.fnag1-5.fna.fbcdn.net/v/t51....   \n",
       "..               ...                                                ...   \n",
       "378  halloweenmakeup  https://instagram.fnag1-1.fna.fbcdn.net/v/t51....   \n",
       "379  halloweenmakeup  https://instagram.fnag1-3.fna.fbcdn.net/v/t51....   \n",
       "380  halloweenmakeup  https://instagram.fnag1-1.fna.fbcdn.net/v/t51....   \n",
       "381  halloweenmakeup  https://instagram.fnag1-4.fna.fbcdn.net/v/t51....   \n",
       "382  halloweenmakeup  https://instagram.fnag1-4.fna.fbcdn.net/v/t51....   \n",
       "\n",
       "                                               caption  \\\n",
       "0    Photo by Naaरी-Attire Hub on July 06, 2023. Ma...   \n",
       "1    Photo by 𝙚𝙛𝙛𝙮 & 𝙖𝙡𝙮 on July 05, 2023. May be a...   \n",
       "2    Photo by dazeoffall on July 05, 2023. May be a...   \n",
       "3    Photo by Autumn Landscapes on July 06, 2023. M...   \n",
       "4    Photo by Danielle on July 05, 2023. May be an ...   \n",
       "..                                                 ...   \n",
       "378  Photo by Fall & Halloween🎃🍁 in Miami, Florida....   \n",
       "379  Photo shared by October Curiosi-teas on July 0...   \n",
       "380  Photo shared by O C T O B E R  D A I L Y on Ju...   \n",
       "381  Photo by Fall & Halloween🎃🍁 in Miami, Florida....   \n",
       "382  Photo by ⠀⠀⠀⠀⠀⠀⠀⠀⠀ATTITUDE CLOTHING Co. on Jun...   \n",
       "\n",
       "                                        other_hashtags  \n",
       "0    [#fashion, #fashionblogger, #fashionista, #fas...  \n",
       "1    [#autumn, #autumnvibes, #autumnvibes🍁, #autumn...  \n",
       "2    [#halloween, #autumn, #fall, #pumpkins, #hallo...  \n",
       "3    [#autumn, #fall, #trees, #seasons, #colors, #l...  \n",
       "4    [#spooky, #icedcoffee, #autumn, #fall, #pumpki...  \n",
       "..                                                 ...  \n",
       "378  [#halloween, #halloweentime, #halloweendecor, ...  \n",
       "379  [#Halloween, #HalloweenUK, #HalloweenDecor, #H...  \n",
       "380  [#halloween, #spooky, #horror, #october, #art,...  \n",
       "381  [#halloween, #halloweentime, #halloweendecor, ...  \n",
       "382  [#halloween, #halloweeneveryday, #halloweendec...  \n",
       "\n",
       "[383 rows x 4 columns]"
      ]
     },
     "execution_count": 53,
     "metadata": {},
     "output_type": "execute_result"
    }
   ],
   "source": [
    "INSTAGRAM_DATA"
   ]
  },
  {
   "cell_type": "code",
   "execution_count": 54,
   "id": "0592ab80-37df-4c37-9e77-3979f0c83538",
   "metadata": {},
   "outputs": [],
   "source": [
    "data = pd.read_csv('instagram_data_2.csv')"
   ]
  },
  {
   "cell_type": "code",
   "execution_count": 55,
   "id": "4f51e60a-ce46-4527-acc3-3abad90bc0c7",
   "metadata": {},
   "outputs": [],
   "source": [
    "data = pd.concat([data,INSTAGRAM_DATA],ignore_index=True,axis=0)"
   ]
  },
  {
   "cell_type": "code",
   "execution_count": 56,
   "id": "d36d7b01-d5b1-41d5-a3ca-653fd6f307f5",
   "metadata": {},
   "outputs": [],
   "source": [
    "data.to_csv('instagram_data.csv',index=False)"
   ]
  },
  {
   "cell_type": "code",
   "execution_count": 41,
   "id": "8db0eec3-50f3-4d02-9cac-68254bfd8ebe",
   "metadata": {},
   "outputs": [],
   "source": [
    "driver.close()"
   ]
  },
  {
   "cell_type": "code",
   "execution_count": null,
   "id": "04bcf797-8094-4049-9caf-22c6b6b494dc",
   "metadata": {},
   "outputs": [],
   "source": []
  }
 ],
 "metadata": {
  "kernelspec": {
   "display_name": "hashtagify_me",
   "language": "python",
   "name": "hashtagify_me"
  },
  "language_info": {
   "codemirror_mode": {
    "name": "ipython",
    "version": 3
   },
   "file_extension": ".py",
   "mimetype": "text/x-python",
   "name": "python",
   "nbconvert_exporter": "python",
   "pygments_lexer": "ipython3",
   "version": "3.9.12"
  }
 },
 "nbformat": 4,
 "nbformat_minor": 5
}
