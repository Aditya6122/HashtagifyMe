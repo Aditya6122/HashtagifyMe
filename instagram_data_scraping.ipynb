{
 "cells": [
  {
   "cell_type": "code",
   "execution_count": 1,
   "id": "380a5c45-b859-42cf-8b3e-b5c8bf9dff12",
   "metadata": {},
   "outputs": [],
   "source": [
    "from selenium import webdriver\n",
    "import time\n",
    "from selenium.webdriver.common.by import By\n",
    "from selenium.webdriver.chrome.service import Service\n",
    "from selenium.webdriver.support.ui import WebDriverWait\n",
    "from selenium.webdriver.support import expected_conditions as EC\n",
    "from selenium.webdriver.common.keys import Keys"
   ]
  },
  {
   "cell_type": "code",
   "execution_count": 107,
   "id": "71eb104f-eafc-469b-a251-9cc19bcd17c8",
   "metadata": {},
   "outputs": [],
   "source": [
    "def create_webdriver():\n",
    "    service = Service('./chromedriver')\n",
    "    driver = webdriver.Chrome(service=service)\n",
    "    return driver"
   ]
  },
  {
   "cell_type": "code",
   "execution_count": 99,
   "id": "02204689-e5f6-4de6-b8cd-048f2a19ebd7",
   "metadata": {},
   "outputs": [],
   "source": [
    "driver = create_webdriver()"
   ]
  },
  {
   "cell_type": "code",
   "execution_count": 100,
   "id": "2558a430-2beb-4e27-9857-fbac92182057",
   "metadata": {},
   "outputs": [],
   "source": [
    "def login_instagram(driver):\n",
    "    driver.get('https://www.instagram.com/')\n",
    "    username_input = WebDriverWait(driver, 10).until(EC.presence_of_element_located((By.CSS_SELECTOR, \"input[name='username']\")))\n",
    "    password_input = WebDriverWait(driver, 10).until(EC.presence_of_element_located((By.CSS_SELECTOR, \"input[name='password']\")))\n",
    "    username_input.send_keys()\n",
    "    password_input.send_keys()\n",
    "    password_input.send_keys(Keys.RETURN)\n",
    "    not_now = WebDriverWait(driver, 10).until(EC.presence_of_element_located((By.XPATH, '//button[@class=\"_a9-- _a9_1\"]')))\n",
    "    not_now.click()"
   ]
  },
  {
   "cell_type": "code",
   "execution_count": 101,
   "id": "2311eba5-591e-4401-b9df-3a546918f6bf",
   "metadata": {},
   "outputs": [],
   "source": [
    "login_instagram(driver)"
   ]
  },
  {
   "cell_type": "code",
   "execution_count": 108,
   "id": "a6475908-1c12-435e-99ac-5e0a9dac02be",
   "metadata": {},
   "outputs": [],
   "source": [
    "def get_hashtags(file_path):\n",
    "    data = pd.read_csv(file_path)\n",
    "    hashtags = data['hashtag']\n",
    "    hashtag_list = list(hashtags.sample(frac = 1))\n",
    "    return hashtag_list"
   ]
  },
  {
   "cell_type": "code",
   "execution_count": 109,
   "id": "62af062b-d969-4224-ba66-cfc392fa537c",
   "metadata": {},
   "outputs": [],
   "source": [
    "hashtag_list = get_hashtags('hashtag_vocab_new.csv')"
   ]
  },
  {
   "cell_type": "code",
   "execution_count": 110,
   "id": "3078eeae-244e-4b5d-a510-3e3ef5ce9a98",
   "metadata": {},
   "outputs": [],
   "source": [
    "INSTAGRAM_DATA = pd.DataFrame(columns=['hashtag','image_url','caption','other_hashtag'])"
   ]
  },
  {
   "cell_type": "code",
   "execution_count": 103,
   "id": "07accf1c-3945-40d1-9a4b-a9062bed0b2b",
   "metadata": {},
   "outputs": [],
   "source": [
    "def get_hashtag_data(hashtag,driver,num_posts=10):\n",
    "    driver.get(f'https://www.instagram.com/explore/tags/{hashtag}/')\n",
    "    post = WebDriverWait(driver, 10).until(EC.presence_of_element_located((By.XPATH, '//div[@class=\"_aabd _aa8k  _al3l\"]')))\n",
    "    post.click()\n",
    "    "
   ]
  },
  {
   "cell_type": "code",
   "execution_count": null,
   "id": "f18e82af-0ad5-4073-b567-4c2b0de1cf9d",
   "metadata": {},
   "outputs": [],
   "source": [
    "# for i in hashtags_list:\n",
    "#     data = scrape_instagram_hashtag(i)\n",
    "#     INSTAGRAM_DATA.append(data,ignore_index=True)"
   ]
  },
  {
   "cell_type": "code",
   "execution_count": null,
   "id": "7d3a41a2-a1ca-4b2e-bf3d-06173478165e",
   "metadata": {},
   "outputs": [],
   "source": []
  },
  {
   "cell_type": "code",
   "execution_count": null,
   "id": "b4a11d5f-2f4f-48af-8235-9eb3a453598f",
   "metadata": {},
   "outputs": [],
   "source": []
  },
  {
   "cell_type": "code",
   "execution_count": null,
   "id": "c5ca0f91-fad3-4719-9df6-a1b0dd5a3720",
   "metadata": {},
   "outputs": [],
   "source": []
  },
  {
   "cell_type": "code",
   "execution_count": null,
   "id": "41a03bbf-4247-4ea1-9265-41d29429c8e4",
   "metadata": {},
   "outputs": [],
   "source": []
  },
  {
   "cell_type": "code",
   "execution_count": null,
   "id": "999b7872-979e-4056-9658-fe456fc86db2",
   "metadata": {},
   "outputs": [],
   "source": []
  },
  {
   "cell_type": "code",
   "execution_count": 36,
   "id": "a4b89cb7-d971-442f-a492-e0386cfc46de",
   "metadata": {},
   "outputs": [],
   "source": []
  },
  {
   "cell_type": "code",
   "execution_count": 37,
   "id": "18ee3ed0-901f-4dee-990c-6e85e2edbd35",
   "metadata": {},
   "outputs": [],
   "source": [
    "driver.find_element(By.XPATH, '//div[@class=\"_aabd _aa8k  _al3l\"]').click()"
   ]
  },
  {
   "cell_type": "code",
   "execution_count": 70,
   "id": "a0f24b4e-4929-4913-af28-1fcdc55d80a0",
   "metadata": {},
   "outputs": [],
   "source": [
    "a =driver.find_elements(By.XPATH, '//a[@class=\"x1i10hfl xjbqb8w x6umtig x1b1mbwd xaqea5y xav7gou x9f619 x1ypdohk xt0psk2 xe8uvvx xdj266r x11i5rnm xat24cr x1mh8g0r xexx8yu x4uap5 x18d9i69 xkhd6sd x16tdsg8 x1hl2dhg xggy1nq x1a2a7pz  _aa9_ _a6hd\"]')"
   ]
  },
  {
   "cell_type": "code",
   "execution_count": 71,
   "id": "2122df4f-47cb-4539-939f-aaad1db22caa",
   "metadata": {},
   "outputs": [
    {
     "name": "stdout",
     "output_type": "stream",
     "text": [
      "#richluxproperty\n",
      "#ibadanrichluxproperty\n",
      "#ibadanhomes\n",
      "#ibadan\n",
      "#ibadanduplexforsale\n",
      "#ibadanduplex\n",
      "#ibadanHouseforsale\n",
      "#ibadanagents\n",
      "#ibadanproperties\n",
      "#ibadanrealestate\n",
      "#ibadanHouses\n",
      "#realestate\n",
      "#realestateinvesting\n",
      "#realestateinvestment\n",
      "#realestatedevelopers\n",
      "#realestategoals\n",
      "#realestateagent\n",
      "#realestateinvestors\n",
      "#realestateinoyo\n",
      "#realestateinnigeria\n",
      "#realestateinibadan\n",
      "#iita\n"
     ]
    }
   ],
   "source": [
    "for i in a:\n",
    "    print(i.text)"
   ]
  },
  {
   "cell_type": "code",
   "execution_count": 69,
   "id": "931f52f0-45c1-44e4-a22b-66bd9303e7cb",
   "metadata": {},
   "outputs": [],
   "source": [
    "driver.find_elements(By.XPATH, '//button[@class=\"_abl-\"]')[1].click()"
   ]
  },
  {
   "cell_type": "code",
   "execution_count": 33,
   "id": "8db0eec3-50f3-4d02-9cac-68254bfd8ebe",
   "metadata": {},
   "outputs": [],
   "source": [
    "driver.close()"
   ]
  },
  {
   "cell_type": "code",
   "execution_count": 74,
   "id": "351238ed-9d48-437c-9841-9f68dae4d09d",
   "metadata": {},
   "outputs": [],
   "source": [
    "a = driver.find_element(By.XPATH, '//img[@class=\"x5yr21d xu96u03 x10l6tqk x13vifvy x87ps6o xh8yej3\"]')"
   ]
  },
  {
   "cell_type": "code",
   "execution_count": 83,
   "id": "214eb37a-c3be-4d08-a6b0-db77439dc1c9",
   "metadata": {},
   "outputs": [
    {
     "data": {
      "text/plain": [
       "'https://instagram.fnag1-2.fna.fbcdn.net/v/t51.2885-15/357265360_313382104356898_7769622774361377622_n.jpg?stp=dst-jpg_e35&_nc_ht=instagram.fnag1-2.fna.fbcdn.net&_nc_cat=110&_nc_ohc=3xgDCFchT94AX9PDHOq&edm=ABmJApABAAAA&ccb=7-5&ig_cache_key=MzEzODg3MTM1MDUwODc2NjAyOQ%3D%3D.2-ccb7-5&oh=00_AfAFkQppj2PupxhlonB5dElfXeA1KrU4JWZaZZhfgoikdA&oe=64A8AFF8&_nc_sid=b41fef'"
      ]
     },
     "execution_count": 83,
     "metadata": {},
     "output_type": "execute_result"
    }
   ],
   "source": [
    "a.get_attribute('src')"
   ]
  },
  {
   "cell_type": "code",
   "execution_count": null,
   "id": "1c1fe8b4-01f9-4c7e-8c4f-359166a9024c",
   "metadata": {},
   "outputs": [],
   "source": []
  }
 ],
 "metadata": {
  "kernelspec": {
   "display_name": "hashtagify_me",
   "language": "python",
   "name": "hashtagify_me"
  },
  "language_info": {
   "codemirror_mode": {
    "name": "ipython",
    "version": 3
   },
   "file_extension": ".py",
   "mimetype": "text/x-python",
   "name": "python",
   "nbconvert_exporter": "python",
   "pygments_lexer": "ipython3",
   "version": "3.9.12"
  }
 },
 "nbformat": 4,
 "nbformat_minor": 5
}
