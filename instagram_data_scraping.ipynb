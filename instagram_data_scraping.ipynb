{
 "cells": [
  {
   "cell_type": "code",
   "execution_count": 1,
   "id": "946ad712-2792-4103-a72c-9beeff97acd7",
   "metadata": {},
   "outputs": [],
   "source": [
    "import pandas as pd"
   ]
  },
  {
   "cell_type": "code",
   "execution_count": 2,
   "id": "a129c719-1b64-436e-b66e-d22d03275a47",
   "metadata": {},
   "outputs": [],
   "source": [
    "data = pd.read_csv('hashtag_vocab_new.csv')"
   ]
  },
  {
   "cell_type": "code",
   "execution_count": 3,
   "id": "bb32408f-0322-4dac-94ef-edc443651694",
   "metadata": {},
   "outputs": [
    {
     "data": {
      "text/html": [
       "<div>\n",
       "<style scoped>\n",
       "    .dataframe tbody tr th:only-of-type {\n",
       "        vertical-align: middle;\n",
       "    }\n",
       "\n",
       "    .dataframe tbody tr th {\n",
       "        vertical-align: top;\n",
       "    }\n",
       "\n",
       "    .dataframe thead th {\n",
       "        text-align: right;\n",
       "    }\n",
       "</style>\n",
       "<table border=\"1\" class=\"dataframe\">\n",
       "  <thead>\n",
       "    <tr style=\"text-align: right;\">\n",
       "      <th></th>\n",
       "      <th>hashtag</th>\n",
       "      <th>words</th>\n",
       "    </tr>\n",
       "  </thead>\n",
       "  <tbody>\n",
       "    <tr>\n",
       "      <th>0</th>\n",
       "      <td>#love</td>\n",
       "      <td>['love']</td>\n",
       "    </tr>\n",
       "    <tr>\n",
       "      <th>1</th>\n",
       "      <td>#instagood</td>\n",
       "      <td>['instagood']</td>\n",
       "    </tr>\n",
       "    <tr>\n",
       "      <th>2</th>\n",
       "      <td>#photooftheday</td>\n",
       "      <td>['photo', 'of', 'the', 'day']</td>\n",
       "    </tr>\n",
       "    <tr>\n",
       "      <th>3</th>\n",
       "      <td>#tbt</td>\n",
       "      <td>['tbt']</td>\n",
       "    </tr>\n",
       "    <tr>\n",
       "      <th>4</th>\n",
       "      <td>#selfie</td>\n",
       "      <td>['selfie']</td>\n",
       "    </tr>\n",
       "  </tbody>\n",
       "</table>\n",
       "</div>"
      ],
      "text/plain": [
       "          hashtag                          words\n",
       "0           #love                       ['love']\n",
       "1      #instagood                  ['instagood']\n",
       "2  #photooftheday  ['photo', 'of', 'the', 'day']\n",
       "3            #tbt                        ['tbt']\n",
       "4         #selfie                     ['selfie']"
      ]
     },
     "execution_count": 3,
     "metadata": {},
     "output_type": "execute_result"
    }
   ],
   "source": [
    "data.head()"
   ]
  },
  {
   "cell_type": "code",
   "execution_count": 4,
   "id": "e18d1ad4-2483-4b6a-a0e5-9d3c79747f97",
   "metadata": {},
   "outputs": [],
   "source": [
    "hashtags = data['hashtag']"
   ]
  },
  {
   "cell_type": "code",
   "execution_count": 5,
   "id": "6911eeaa-d13e-42d9-8300-b02d4f9c02a8",
   "metadata": {},
   "outputs": [
    {
     "data": {
      "text/plain": [
       "0                #love\n",
       "1           #instagood\n",
       "2       #photooftheday\n",
       "3                 #tbt\n",
       "4              #selfie\n",
       "             ...      \n",
       "1378          #carpics\n",
       "1379          #cargram\n",
       "1380         #carscene\n",
       "1381          #fashion\n",
       "1382        #beautiful\n",
       "Name: hashtag, Length: 1383, dtype: object"
      ]
     },
     "execution_count": 5,
     "metadata": {},
     "output_type": "execute_result"
    }
   ],
   "source": [
    "hashtags"
   ]
  },
  {
   "cell_type": "code",
   "execution_count": null,
   "id": "c0ce781f-4d98-4947-8bbe-7d81d24f8357",
   "metadata": {},
   "outputs": [],
   "source": []
  }
 ],
 "metadata": {
  "kernelspec": {
   "display_name": "hashtagify_me",
   "language": "python",
   "name": "hashtagify_me"
  },
  "language_info": {
   "codemirror_mode": {
    "name": "ipython",
    "version": 3
   },
   "file_extension": ".py",
   "mimetype": "text/x-python",
   "name": "python",
   "nbconvert_exporter": "python",
   "pygments_lexer": "ipython3",
   "version": "3.9.12"
  }
 },
 "nbformat": 4,
 "nbformat_minor": 5
}
