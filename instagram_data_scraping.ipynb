{
 "cells": [
  {
   "cell_type": "code",
   "execution_count": 128,
   "id": "380a5c45-b859-42cf-8b3e-b5c8bf9dff12",
   "metadata": {},
   "outputs": [],
   "source": [
    "from selenium import webdriver\n",
    "import time\n",
    "from selenium.webdriver.common.by import By\n",
    "from selenium.webdriver.chrome.service import Service\n",
    "from selenium.webdriver.support.ui import WebDriverWait\n",
    "from selenium.webdriver.support import expected_conditions as EC\n",
    "from selenium.webdriver.common.keys import Keys\n",
    "import credentials"
   ]
  },
  {
   "cell_type": "code",
   "execution_count": 130,
   "id": "71eb104f-eafc-469b-a251-9cc19bcd17c8",
   "metadata": {},
   "outputs": [],
   "source": [
    "def create_webdriver():\n",
    "    service = Service('./chromedriver')\n",
    "    driver = webdriver.Chrome(service=service)\n",
    "    return driver"
   ]
  },
  {
   "cell_type": "code",
   "execution_count": 140,
   "id": "2558a430-2beb-4e27-9857-fbac92182057",
   "metadata": {
    "tags": []
   },
   "outputs": [],
   "source": [
    "def login_instagram(driver):\n",
    "    driver.get('https://www.instagram.com/')\n",
    "    username_input = WebDriverWait(driver, 10).until(EC.presence_of_element_located((By.CSS_SELECTOR, \"input[name='username']\")))\n",
    "    password_input = WebDriverWait(driver, 10).until(EC.presence_of_element_located((By.CSS_SELECTOR, \"input[name='password']\")))\n",
    "    username_input.send_keys(credentials.USER_NAME)\n",
    "    password_input.send_keys(credentials.PASSWORD)\n",
    "    password_input.send_keys(Keys.RETURN)\n",
    "    not_now = WebDriverWait(driver, 10).until(EC.presence_of_element_located((By.XPATH, '//button[@class=\"_a9-- _a9_1\"]')))\n",
    "    not_now.click()\n",
    "    return driver"
   ]
  },
  {
   "cell_type": "code",
   "execution_count": 141,
   "id": "a6475908-1c12-435e-99ac-5e0a9dac02be",
   "metadata": {},
   "outputs": [],
   "source": [
    "def get_hashtags(file_path):\n",
    "    data = pd.read_csv(file_path)\n",
    "    hashtags = data['hashtag']\n",
    "    hashtag_list = list(hashtags.sample(frac = 1))\n",
    "    return hashtag_list"
   ]
  },
  {
   "cell_type": "code",
   "execution_count": 181,
   "id": "07accf1c-3945-40d1-9a4b-a9062bed0b2b",
   "metadata": {},
   "outputs": [],
   "source": [
    "def get_hashtag_data(hashtag,driver,num_posts=10):\n",
    "    driver.get(f'https://www.instagram.com/explore/tags/{hashtag}/')\n",
    "    post = WebDriverWait(driver, 10).until(EC.presence_of_element_located((By.XPATH, '//div[@class=\"_aabd _aa8k  _al3l\"]')))\n",
    "    post.click()\n",
    "    time.sleep(2)\n",
    "    posts = {}\n",
    "    for i in range(num_posts):\n",
    "        post = {}\n",
    "        given_hashtags = driver.find_elements(By.XPATH, '//a[@class=\"x1i10hfl xjbqb8w x6umtig x1b1mbwd xaqea5y xav7gou x9f619 x1ypdohk xt0psk2 xe8uvvx xdj266r x11i5rnm xat24cr x1mh8g0r xexx8yu x4uap5 x18d9i69 xkhd6sd x16tdsg8 x1hl2dhg xggy1nq x1a2a7pz  _aa9_ _a6hd\"]')\n",
    "        img = driver.find_element(By.XPATH, '//img[@class=\"x5yr21d xu96u03 x10l6tqk x13vifvy x87ps6o xh8yej3\"]')\n",
    "        post['hashtag'] = hashtag\n",
    "        post['other_hashtags'] = [i.text for i in given_hashtags]\n",
    "        post['img'] = img.get_attribute('src')\n",
    "        post['caption'] = img.get_attribute('alt')\n",
    "        posts[i] = post\n",
    "        driver.find_elements(By.XPATH, '//div[@class=\" _aaqg _aaqh\"]')[-1].click()\n",
    "    return posts"
   ]
  },
  {
   "cell_type": "code",
   "execution_count": 163,
   "id": "02204689-e5f6-4de6-b8cd-048f2a19ebd7",
   "metadata": {},
   "outputs": [],
   "source": [
    "driver = create_webdriver()"
   ]
  },
  {
   "cell_type": "code",
   "execution_count": 164,
   "id": "2311eba5-591e-4401-b9df-3a546918f6bf",
   "metadata": {},
   "outputs": [],
   "source": [
    "driver = login_instagram(driver)"
   ]
  },
  {
   "cell_type": "code",
   "execution_count": 165,
   "id": "62af062b-d969-4224-ba66-cfc392fa537c",
   "metadata": {},
   "outputs": [],
   "source": [
    "hashtag_list = get_hashtags('hashtag_vocab_new.csv')"
   ]
  },
  {
   "cell_type": "code",
   "execution_count": 166,
   "id": "ad1f93fe-de3e-4ec5-bdab-1bc88ae154ad",
   "metadata": {},
   "outputs": [
    {
     "data": {
      "text/plain": [
       "['#memelord', '#hot', '#creativecommunity', '#spirits', '#filmphotography']"
      ]
     },
     "execution_count": 166,
     "metadata": {},
     "output_type": "execute_result"
    }
   ],
   "source": [
    "hashtag_list[:5]"
   ]
  },
  {
   "cell_type": "code",
   "execution_count": 167,
   "id": "a05b117c-e126-4bde-8f8b-4979023044c2",
   "metadata": {},
   "outputs": [
    {
     "data": {
      "text/plain": [
       "'memelord'"
      ]
     },
     "execution_count": 167,
     "metadata": {},
     "output_type": "execute_result"
    }
   ],
   "source": [
    "hashtag_list[0][1:]"
   ]
  },
  {
   "cell_type": "code",
   "execution_count": 182,
   "id": "9006faff-4043-44a1-ae71-2e7a58b97ad5",
   "metadata": {},
   "outputs": [
    {
     "data": {
      "text/plain": [
       "{0: {'hashtag': 'memelord',\n",
       "  'other_hashtags': ['#funnyposts',\n",
       "   '#memeaccount',\n",
       "   '#memesfordays',\n",
       "   '#memelord',\n",
       "   '#memestagram',\n",
       "   '#freshmemes',\n",
       "   '#memecucks',\n",
       "   '#stolenmemes',\n",
       "   '#offensivememes',\n",
       "   '#normiememes',\n",
       "   '#spicymemes',\n",
       "   '#darkhumor',\n",
       "   '#cursedimages',\n",
       "   '#cursedimage',\n",
       "   '#cancerousmemesforautisticteens',\n",
       "   '#dankmemes',\n",
       "   '#dankmemesdaily',\n",
       "   '#jetfuelcantmeltdankmemes',\n",
       "   '#cancerousmemes',\n",
       "   '#sledgang',\n",
       "   '#dinogang',\n",
       "   '#funnymemes'],\n",
       "  'img': 'https://instagram.fnag6-3.fna.fbcdn.net/v/t51.2885-15/357416675_1017007045980580_4506693250345353515_n.jpg?stp=dst-jpg_e35&_nc_ht=instagram.fnag6-3.fna.fbcdn.net&_nc_cat=104&_nc_ohc=Zk5q_DshXBYAX_Mgls1&edm=ALQROFkBAAAA&ccb=7-5&ig_cache_key=MzEzNzM1NDA1NjYwNzI1Njg1Ng%3D%3D.2-ccb7-5&oh=00_AfDkvKg2WnEXjgNP5aMxv0UsS0iqnzOgMR-E08SUzQqlFQ&oe=64A8EC39&_nc_sid=fc8dfb',\n",
       "  'caption': \"Photo by Goofy Explains on July 01, 2023. May be a meme of 2 people, vulture and text that says 'Name: Peter Par Ker Last name:ç name:'.\"},\n",
       " 1: {'hashtag': 'memelord',\n",
       "  'other_hashtags': [],\n",
       "  'img': 'https://instagram.fnag6-3.fna.fbcdn.net/v/t51.2885-15/357416675_1017007045980580_4506693250345353515_n.jpg?stp=dst-jpg_e35&_nc_ht=instagram.fnag6-3.fna.fbcdn.net&_nc_cat=104&_nc_ohc=Zk5q_DshXBYAX_Mgls1&edm=ALQROFkBAAAA&ccb=7-5&ig_cache_key=MzEzNzM1NDA1NjYwNzI1Njg1Ng%3D%3D.2-ccb7-5&oh=00_AfDkvKg2WnEXjgNP5aMxv0UsS0iqnzOgMR-E08SUzQqlFQ&oe=64A8EC39&_nc_sid=fc8dfb',\n",
       "  'caption': \"Photo by Goofy Explains on July 01, 2023. May be a meme of 2 people, vulture and text that says 'Name: Peter Par Ker Last name:ç name:'.\"},\n",
       " 2: {'hashtag': 'memelord',\n",
       "  'other_hashtags': [],\n",
       "  'img': 'https://instagram.fnag6-3.fna.fbcdn.net/v/t51.2885-15/357416675_1017007045980580_4506693250345353515_n.jpg?stp=dst-jpg_e35&_nc_ht=instagram.fnag6-3.fna.fbcdn.net&_nc_cat=104&_nc_ohc=Zk5q_DshXBYAX_Mgls1&edm=ALQROFkBAAAA&ccb=7-5&ig_cache_key=MzEzNzM1NDA1NjYwNzI1Njg1Ng%3D%3D.2-ccb7-5&oh=00_AfDkvKg2WnEXjgNP5aMxv0UsS0iqnzOgMR-E08SUzQqlFQ&oe=64A8EC39&_nc_sid=fc8dfb',\n",
       "  'caption': \"Photo by Goofy Explains on July 01, 2023. May be a meme of 2 people, vulture and text that says 'Name: Peter Par Ker Last name:ç name:'.\"},\n",
       " 3: {'hashtag': 'memelord',\n",
       "  'other_hashtags': [],\n",
       "  'img': 'https://instagram.fnag6-3.fna.fbcdn.net/v/t51.2885-15/357416675_1017007045980580_4506693250345353515_n.jpg?stp=dst-jpg_e35&_nc_ht=instagram.fnag6-3.fna.fbcdn.net&_nc_cat=104&_nc_ohc=Zk5q_DshXBYAX_Mgls1&edm=ALQROFkBAAAA&ccb=7-5&ig_cache_key=MzEzNzM1NDA1NjYwNzI1Njg1Ng%3D%3D.2-ccb7-5&oh=00_AfDkvKg2WnEXjgNP5aMxv0UsS0iqnzOgMR-E08SUzQqlFQ&oe=64A8EC39&_nc_sid=fc8dfb',\n",
       "  'caption': \"Photo by Goofy Explains on July 01, 2023. May be a meme of 2 people, vulture and text that says 'Name: Peter Par Ker Last name:ç name:'.\"},\n",
       " 4: {'hashtag': 'memelord',\n",
       "  'other_hashtags': [],\n",
       "  'img': 'https://instagram.fnag6-3.fna.fbcdn.net/v/t51.2885-15/357416675_1017007045980580_4506693250345353515_n.jpg?stp=dst-jpg_e35&_nc_ht=instagram.fnag6-3.fna.fbcdn.net&_nc_cat=104&_nc_ohc=Zk5q_DshXBYAX_Mgls1&edm=ALQROFkBAAAA&ccb=7-5&ig_cache_key=MzEzNzM1NDA1NjYwNzI1Njg1Ng%3D%3D.2-ccb7-5&oh=00_AfDkvKg2WnEXjgNP5aMxv0UsS0iqnzOgMR-E08SUzQqlFQ&oe=64A8EC39&_nc_sid=fc8dfb',\n",
       "  'caption': \"Photo by Goofy Explains on July 01, 2023. May be a meme of 2 people, vulture and text that says 'Name: Peter Par Ker Last name:ç name:'.\"},\n",
       " 5: {'hashtag': 'memelord',\n",
       "  'other_hashtags': ['#dylanteromemes',\n",
       "   '#edgy',\n",
       "   '#dankmemesdaily',\n",
       "   '#dailymemes',\n",
       "   '#funnyvideos',\n",
       "   '#shitpostindonesia',\n",
       "   '#shitposter',\n",
       "   '#memesgraciosos',\n",
       "   '#spicymemes',\n",
       "   '#dagelan',\n",
       "   '#animememes',\n",
       "   '#ngakak',\n",
       "   '#like',\n",
       "   '#viral',\n",
       "   '#minecraft',\n",
       "   '#memestagram',\n",
       "   '#explorepage',\n",
       "   '#follow',\n",
       "   '#memesbrasil',\n",
       "   '#a',\n",
       "   '#cursed',\n",
       "   '#chile',\n",
       "   '#comedy',\n",
       "   '#xd',\n",
       "   '#memeschile',\n",
       "   '#explore',\n",
       "   '#dylantero',\n",
       "   '#ngakakkocak',\n",
       "   '#memelord',\n",
       "   '#k'],\n",
       "  'img': 'https://instagram.fnag6-3.fna.fbcdn.net/v/t51.2885-15/357416675_1017007045980580_4506693250345353515_n.jpg?stp=dst-jpg_e35&_nc_ht=instagram.fnag6-3.fna.fbcdn.net&_nc_cat=104&_nc_ohc=Zk5q_DshXBYAX_Mgls1&edm=ALQROFkBAAAA&ccb=7-5&ig_cache_key=MzEzNzM1NDA1NjYwNzI1Njg1Ng%3D%3D.2-ccb7-5&oh=00_AfDkvKg2WnEXjgNP5aMxv0UsS0iqnzOgMR-E08SUzQqlFQ&oe=64A8EC39&_nc_sid=fc8dfb',\n",
       "  'caption': \"Photo by Goofy Explains on July 01, 2023. May be a meme of 2 people, vulture and text that says 'Name: Peter Par Ker Last name:ç name:'.\"},\n",
       " 6: {'hashtag': 'memelord',\n",
       "  'other_hashtags': ['#funnyposts',\n",
       "   '#memeaccount',\n",
       "   '#memesfordays',\n",
       "   '#memelord',\n",
       "   '#memestagram',\n",
       "   '#freshmemes',\n",
       "   '#memecucks',\n",
       "   '#stolenmemes',\n",
       "   '#offensivememes',\n",
       "   '#normiememes',\n",
       "   '#spiceymemes',\n",
       "   '#darkhumor',\n",
       "   '#cursedimage',\n",
       "   '#cancerousmemesforautisticteens',\n",
       "   '#dankmemes',\n",
       "   '#dankmemesdaily',\n",
       "   '#cancermemes',\n",
       "   '#sledgang',\n",
       "   '#dankdank',\n",
       "   '#minecraftmemes'],\n",
       "  'img': 'https://instagram.fnag6-3.fna.fbcdn.net/v/t51.2885-15/357416675_1017007045980580_4506693250345353515_n.jpg?stp=dst-jpg_e35&_nc_ht=instagram.fnag6-3.fna.fbcdn.net&_nc_cat=104&_nc_ohc=Zk5q_DshXBYAX_Mgls1&edm=ALQROFkBAAAA&ccb=7-5&ig_cache_key=MzEzNzM1NDA1NjYwNzI1Njg1Ng%3D%3D.2-ccb7-5&oh=00_AfDkvKg2WnEXjgNP5aMxv0UsS0iqnzOgMR-E08SUzQqlFQ&oe=64A8EC39&_nc_sid=fc8dfb',\n",
       "  'caption': \"Photo by Goofy Explains on July 01, 2023. May be a meme of 2 people, vulture and text that says 'Name: Peter Par Ker Last name:ç name:'.\"},\n",
       " 7: {'hashtag': 'memelord',\n",
       "  'other_hashtags': [],\n",
       "  'img': 'https://instagram.fnag6-3.fna.fbcdn.net/v/t51.2885-15/357416675_1017007045980580_4506693250345353515_n.jpg?stp=dst-jpg_e35&_nc_ht=instagram.fnag6-3.fna.fbcdn.net&_nc_cat=104&_nc_ohc=Zk5q_DshXBYAX_Mgls1&edm=ALQROFkBAAAA&ccb=7-5&ig_cache_key=MzEzNzM1NDA1NjYwNzI1Njg1Ng%3D%3D.2-ccb7-5&oh=00_AfDkvKg2WnEXjgNP5aMxv0UsS0iqnzOgMR-E08SUzQqlFQ&oe=64A8EC39&_nc_sid=fc8dfb',\n",
       "  'caption': \"Photo by Goofy Explains on July 01, 2023. May be a meme of 2 people, vulture and text that says 'Name: Peter Par Ker Last name:ç name:'.\"},\n",
       " 8: {'hashtag': 'memelord',\n",
       "  'other_hashtags': ['#dailymemes',\n",
       "   '#moviememes',\n",
       "   '#employeememes',\n",
       "   '#newsmemes',\n",
       "   '#tastelessjokes',\n",
       "   '#bestofmemes',\n",
       "   '#textpost',\n",
       "   '#textposts',\n",
       "   '#comedy',\n",
       "   '#humor',\n",
       "   '#dankmemes',\n",
       "   '#meme',\n",
       "   '#memes',\n",
       "   '#halloweenmeme',\n",
       "   '#lifememes',\n",
       "   '#cartoonmemes',\n",
       "   '#workmemes',\n",
       "   '#killermemes',\n",
       "   '#relationshipmemes',\n",
       "   '#couplememes',\n",
       "   '#parentmemes',\n",
       "   '#memelord',\n",
       "   '#foodmemes',\n",
       "   '#girlfriendmemes',\n",
       "   '#workmeme',\n",
       "   '#boomermemes',\n",
       "   '#comedyposts',\n",
       "   '#randommemes',\n",
       "   '#marriagememes',\n",
       "   '#canadamemes'],\n",
       "  'img': 'https://instagram.fnag6-3.fna.fbcdn.net/v/t51.2885-15/357416675_1017007045980580_4506693250345353515_n.jpg?stp=dst-jpg_e35&_nc_ht=instagram.fnag6-3.fna.fbcdn.net&_nc_cat=104&_nc_ohc=Zk5q_DshXBYAX_Mgls1&edm=ALQROFkBAAAA&ccb=7-5&ig_cache_key=MzEzNzM1NDA1NjYwNzI1Njg1Ng%3D%3D.2-ccb7-5&oh=00_AfDkvKg2WnEXjgNP5aMxv0UsS0iqnzOgMR-E08SUzQqlFQ&oe=64A8EC39&_nc_sid=fc8dfb',\n",
       "  'caption': \"Photo by Goofy Explains on July 01, 2023. May be a meme of 2 people, vulture and text that says 'Name: Peter Par Ker Last name:ç name:'.\"},\n",
       " 9: {'hashtag': 'memelord',\n",
       "  'other_hashtags': ['#savagememes',\n",
       "   '#dankmemes',\n",
       "   '#funnymemes',\n",
       "   '#dankmemesdaily',\n",
       "   '#funnymemesdaily',\n",
       "   '#dailymemes',\n",
       "   '#hoodmemesdaily',\n",
       "   '#memelord',\n",
       "   '#memes4days',\n",
       "   '#explorepage',\n",
       "   '#instareels',\n",
       "   '#funnyreels',\n",
       "   '#tiktokmemes',\n",
       "   '#memepage',\n",
       "   '#memeita',\n",
       "   '#memeitalia',\n",
       "   '#edgymemes',\n",
       "   '#funnyvideos',\n",
       "   '#freshmemes',\n",
       "   '#explore',\n",
       "   '#twitter',\n",
       "   '#twittermemes',\n",
       "   '#twitterquotes',\n",
       "   '#twitterthreads',\n",
       "   '#twitterposts'],\n",
       "  'img': 'https://instagram.fnag6-3.fna.fbcdn.net/v/t51.2885-15/357416675_1017007045980580_4506693250345353515_n.jpg?stp=dst-jpg_e35&_nc_ht=instagram.fnag6-3.fna.fbcdn.net&_nc_cat=104&_nc_ohc=Zk5q_DshXBYAX_Mgls1&edm=ALQROFkBAAAA&ccb=7-5&ig_cache_key=MzEzNzM1NDA1NjYwNzI1Njg1Ng%3D%3D.2-ccb7-5&oh=00_AfDkvKg2WnEXjgNP5aMxv0UsS0iqnzOgMR-E08SUzQqlFQ&oe=64A8EC39&_nc_sid=fc8dfb',\n",
       "  'caption': \"Photo by Goofy Explains on July 01, 2023. May be a meme of 2 people, vulture and text that says 'Name: Peter Par Ker Last name:ç name:'.\"}}"
      ]
     },
     "execution_count": 182,
     "metadata": {},
     "output_type": "execute_result"
    }
   ],
   "source": [
    "get_hashtag_data(hashtag_list[0][1:],driver)"
   ]
  },
  {
   "cell_type": "code",
   "execution_count": 111,
   "id": "3078eeae-244e-4b5d-a510-3e3ef5ce9a98",
   "metadata": {},
   "outputs": [],
   "source": [
    "INSTAGRAM_DATA = pd.DataFrame(columns=['hashtag','image_url','caption','other_hashtags'])"
   ]
  },
  {
   "cell_type": "code",
   "execution_count": 33,
   "id": "8db0eec3-50f3-4d02-9cac-68254bfd8ebe",
   "metadata": {},
   "outputs": [],
   "source": [
    "driver.close()"
   ]
  }
 ],
 "metadata": {
  "kernelspec": {
   "display_name": "hashtagify_me",
   "language": "python",
   "name": "hashtagify_me"
  },
  "language_info": {
   "codemirror_mode": {
    "name": "ipython",
    "version": 3
   },
   "file_extension": ".py",
   "mimetype": "text/x-python",
   "name": "python",
   "nbconvert_exporter": "python",
   "pygments_lexer": "ipython3",
   "version": "3.9.12"
  }
 },
 "nbformat": 4,
 "nbformat_minor": 5
}
