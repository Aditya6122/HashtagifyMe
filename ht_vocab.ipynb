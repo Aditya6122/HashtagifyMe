{
 "cells": [
  {
   "cell_type": "code",
   "execution_count": 50,
   "metadata": {},
   "outputs": [],
   "source": [
    "import pandas as pd\n",
    "import re"
   ]
  },
  {
   "cell_type": "code",
   "execution_count": 6,
   "metadata": {},
   "outputs": [],
   "source": [
    "with open('hastags.txt','r') as f:\n",
    "    hashtags = f.readlines()"
   ]
  },
  {
   "cell_type": "code",
   "execution_count": 7,
   "metadata": {},
   "outputs": [
    {
     "data": {
      "text/plain": [
       "565"
      ]
     },
     "execution_count": 7,
     "metadata": {},
     "output_type": "execute_result"
    }
   ],
   "source": [
    "len(hashtags)"
   ]
  },
  {
   "cell_type": "code",
   "execution_count": 9,
   "metadata": {},
   "outputs": [
    {
     "data": {
      "text/plain": [
       "['1. #Love - love\\n',\n",
       " '2. #InstaGood - insta, good\\n',\n",
       " '3. #PhotoOfTheDay - photo, day\\n',\n",
       " '4. #Fashion - fashion\\n',\n",
       " '5. #Beautiful - beautiful\\n']"
      ]
     },
     "execution_count": 9,
     "metadata": {},
     "output_type": "execute_result"
    }
   ],
   "source": [
    "hashtags[:5]"
   ]
  },
  {
   "cell_type": "code",
   "execution_count": 52,
   "metadata": {},
   "outputs": [],
   "source": [
    "data = pd.DataFrame(hashtags)\n",
    "data.rename(columns = {0:'Original Hashtags'},inplace=True)"
   ]
  },
  {
   "cell_type": "code",
   "execution_count": 53,
   "metadata": {},
   "outputs": [
    {
     "data": {
      "text/html": [
       "<div>\n",
       "<style scoped>\n",
       "    .dataframe tbody tr th:only-of-type {\n",
       "        vertical-align: middle;\n",
       "    }\n",
       "\n",
       "    .dataframe tbody tr th {\n",
       "        vertical-align: top;\n",
       "    }\n",
       "\n",
       "    .dataframe thead th {\n",
       "        text-align: right;\n",
       "    }\n",
       "</style>\n",
       "<table border=\"1\" class=\"dataframe\">\n",
       "  <thead>\n",
       "    <tr style=\"text-align: right;\">\n",
       "      <th></th>\n",
       "      <th>Original Hashtags</th>\n",
       "    </tr>\n",
       "  </thead>\n",
       "  <tbody>\n",
       "    <tr>\n",
       "      <th>0</th>\n",
       "      <td>1. #Love - love\\n</td>\n",
       "    </tr>\n",
       "    <tr>\n",
       "      <th>1</th>\n",
       "      <td>2. #InstaGood - insta, good\\n</td>\n",
       "    </tr>\n",
       "    <tr>\n",
       "      <th>2</th>\n",
       "      <td>3. #PhotoOfTheDay - photo, day\\n</td>\n",
       "    </tr>\n",
       "    <tr>\n",
       "      <th>3</th>\n",
       "      <td>4. #Fashion - fashion\\n</td>\n",
       "    </tr>\n",
       "    <tr>\n",
       "      <th>4</th>\n",
       "      <td>5. #Beautiful - beautiful\\n</td>\n",
       "    </tr>\n",
       "  </tbody>\n",
       "</table>\n",
       "</div>"
      ],
      "text/plain": [
       "                  Original Hashtags\n",
       "0                 1. #Love - love\\n\n",
       "1     2. #InstaGood - insta, good\\n\n",
       "2  3. #PhotoOfTheDay - photo, day\\n\n",
       "3           4. #Fashion - fashion\\n\n",
       "4       5. #Beautiful - beautiful\\n"
      ]
     },
     "execution_count": 53,
     "metadata": {},
     "output_type": "execute_result"
    }
   ],
   "source": [
    "data.head()"
   ]
  },
  {
   "cell_type": "code",
   "execution_count": 81,
   "metadata": {},
   "outputs": [],
   "source": [
    "def clean_text(text):\n",
    "    text = re.sub(r'^.*?#', '#', text)\n",
    "    text = re.sub(r'\\s','',text)\n",
    "    hashtag, words = text.split(\"-\")\n",
    "    words = words.split(',')\n",
    "    return hashtag, words"
   ]
  },
  {
   "cell_type": "code",
   "execution_count": 84,
   "metadata": {},
   "outputs": [],
   "source": [
    "data[['Hashtag', 'Words']] = pd.DataFrame(data['Original Hashtags'].apply(clean_text).tolist())"
   ]
  },
  {
   "cell_type": "code",
   "execution_count": 85,
   "metadata": {},
   "outputs": [
    {
     "data": {
      "text/html": [
       "<div>\n",
       "<style scoped>\n",
       "    .dataframe tbody tr th:only-of-type {\n",
       "        vertical-align: middle;\n",
       "    }\n",
       "\n",
       "    .dataframe tbody tr th {\n",
       "        vertical-align: top;\n",
       "    }\n",
       "\n",
       "    .dataframe thead th {\n",
       "        text-align: right;\n",
       "    }\n",
       "</style>\n",
       "<table border=\"1\" class=\"dataframe\">\n",
       "  <thead>\n",
       "    <tr style=\"text-align: right;\">\n",
       "      <th></th>\n",
       "      <th>Original Hashtags</th>\n",
       "      <th>Hashtag</th>\n",
       "      <th>Words</th>\n",
       "    </tr>\n",
       "  </thead>\n",
       "  <tbody>\n",
       "    <tr>\n",
       "      <th>0</th>\n",
       "      <td>1. #Love - love\\n</td>\n",
       "      <td>#Love</td>\n",
       "      <td>[love]</td>\n",
       "    </tr>\n",
       "    <tr>\n",
       "      <th>1</th>\n",
       "      <td>2. #InstaGood - insta, good\\n</td>\n",
       "      <td>#InstaGood</td>\n",
       "      <td>[insta, good]</td>\n",
       "    </tr>\n",
       "    <tr>\n",
       "      <th>2</th>\n",
       "      <td>3. #PhotoOfTheDay - photo, day\\n</td>\n",
       "      <td>#PhotoOfTheDay</td>\n",
       "      <td>[photo, day]</td>\n",
       "    </tr>\n",
       "    <tr>\n",
       "      <th>3</th>\n",
       "      <td>4. #Fashion - fashion\\n</td>\n",
       "      <td>#Fashion</td>\n",
       "      <td>[fashion]</td>\n",
       "    </tr>\n",
       "    <tr>\n",
       "      <th>4</th>\n",
       "      <td>5. #Beautiful - beautiful\\n</td>\n",
       "      <td>#Beautiful</td>\n",
       "      <td>[beautiful]</td>\n",
       "    </tr>\n",
       "    <tr>\n",
       "      <th>...</th>\n",
       "      <td>...</td>\n",
       "      <td>...</td>\n",
       "      <td>...</td>\n",
       "    </tr>\n",
       "    <tr>\n",
       "      <th>560</th>\n",
       "      <td>361. #FoodieDelight - foodie, delight\\n</td>\n",
       "      <td>#FoodieDelight</td>\n",
       "      <td>[foodie, delight]</td>\n",
       "    </tr>\n",
       "    <tr>\n",
       "      <th>561</th>\n",
       "      <td>362. #TravelPhotography - travel, photography\\n</td>\n",
       "      <td>#TravelPhotography</td>\n",
       "      <td>[travel, photography]</td>\n",
       "    </tr>\n",
       "    <tr>\n",
       "      <th>562</th>\n",
       "      <td>363. #FitnessChallenge - fitness, challenge\\n</td>\n",
       "      <td>#FitnessChallenge</td>\n",
       "      <td>[fitness, challenge]</td>\n",
       "    </tr>\n",
       "    <tr>\n",
       "      <th>563</th>\n",
       "      <td>364. #StyleStatement - style, statement\\n</td>\n",
       "      <td>#StyleStatement</td>\n",
       "      <td>[style, statement]</td>\n",
       "    </tr>\n",
       "    <tr>\n",
       "      <th>564</th>\n",
       "      <td>365. #SelfieQueen - selfie, queen</td>\n",
       "      <td>#SelfieQueen</td>\n",
       "      <td>[selfie, queen]</td>\n",
       "    </tr>\n",
       "  </tbody>\n",
       "</table>\n",
       "<p>565 rows × 3 columns</p>\n",
       "</div>"
      ],
      "text/plain": [
       "                                   Original Hashtags             Hashtag  \\\n",
       "0                                  1. #Love - love\\n               #Love   \n",
       "1                      2. #InstaGood - insta, good\\n          #InstaGood   \n",
       "2                   3. #PhotoOfTheDay - photo, day\\n      #PhotoOfTheDay   \n",
       "3                            4. #Fashion - fashion\\n            #Fashion   \n",
       "4                        5. #Beautiful - beautiful\\n          #Beautiful   \n",
       "..                                               ...                 ...   \n",
       "560          361. #FoodieDelight - foodie, delight\\n      #FoodieDelight   \n",
       "561  362. #TravelPhotography - travel, photography\\n  #TravelPhotography   \n",
       "562    363. #FitnessChallenge - fitness, challenge\\n   #FitnessChallenge   \n",
       "563        364. #StyleStatement - style, statement\\n     #StyleStatement   \n",
       "564                365. #SelfieQueen - selfie, queen        #SelfieQueen   \n",
       "\n",
       "                     Words  \n",
       "0                   [love]  \n",
       "1            [insta, good]  \n",
       "2             [photo, day]  \n",
       "3                [fashion]  \n",
       "4              [beautiful]  \n",
       "..                     ...  \n",
       "560      [foodie, delight]  \n",
       "561  [travel, photography]  \n",
       "562   [fitness, challenge]  \n",
       "563     [style, statement]  \n",
       "564        [selfie, queen]  \n",
       "\n",
       "[565 rows x 3 columns]"
      ]
     },
     "execution_count": 85,
     "metadata": {},
     "output_type": "execute_result"
    }
   ],
   "source": [
    "data"
   ]
  },
  {
   "cell_type": "code",
   "execution_count": 86,
   "metadata": {},
   "outputs": [],
   "source": [
    "data = data.drop_duplicates(subset='Hashtag', keep='first')"
   ]
  },
  {
   "cell_type": "code",
   "execution_count": 87,
   "metadata": {},
   "outputs": [
    {
     "data": {
      "text/html": [
       "<div>\n",
       "<style scoped>\n",
       "    .dataframe tbody tr th:only-of-type {\n",
       "        vertical-align: middle;\n",
       "    }\n",
       "\n",
       "    .dataframe tbody tr th {\n",
       "        vertical-align: top;\n",
       "    }\n",
       "\n",
       "    .dataframe thead th {\n",
       "        text-align: right;\n",
       "    }\n",
       "</style>\n",
       "<table border=\"1\" class=\"dataframe\">\n",
       "  <thead>\n",
       "    <tr style=\"text-align: right;\">\n",
       "      <th></th>\n",
       "      <th>Original Hashtags</th>\n",
       "      <th>Hashtag</th>\n",
       "      <th>Words</th>\n",
       "    </tr>\n",
       "  </thead>\n",
       "  <tbody>\n",
       "    <tr>\n",
       "      <th>0</th>\n",
       "      <td>1. #Love - love\\n</td>\n",
       "      <td>#Love</td>\n",
       "      <td>[love]</td>\n",
       "    </tr>\n",
       "    <tr>\n",
       "      <th>1</th>\n",
       "      <td>2. #InstaGood - insta, good\\n</td>\n",
       "      <td>#InstaGood</td>\n",
       "      <td>[insta, good]</td>\n",
       "    </tr>\n",
       "    <tr>\n",
       "      <th>2</th>\n",
       "      <td>3. #PhotoOfTheDay - photo, day\\n</td>\n",
       "      <td>#PhotoOfTheDay</td>\n",
       "      <td>[photo, day]</td>\n",
       "    </tr>\n",
       "    <tr>\n",
       "      <th>3</th>\n",
       "      <td>4. #Fashion - fashion\\n</td>\n",
       "      <td>#Fashion</td>\n",
       "      <td>[fashion]</td>\n",
       "    </tr>\n",
       "    <tr>\n",
       "      <th>4</th>\n",
       "      <td>5. #Beautiful - beautiful\\n</td>\n",
       "      <td>#Beautiful</td>\n",
       "      <td>[beautiful]</td>\n",
       "    </tr>\n",
       "    <tr>\n",
       "      <th>...</th>\n",
       "      <td>...</td>\n",
       "      <td>...</td>\n",
       "      <td>...</td>\n",
       "    </tr>\n",
       "    <tr>\n",
       "      <th>323</th>\n",
       "      <td>124. #FamilyVacation - family, vacation\\n</td>\n",
       "      <td>#FamilyVacation</td>\n",
       "      <td>[family, vacation]</td>\n",
       "    </tr>\n",
       "    <tr>\n",
       "      <th>324</th>\n",
       "      <td>125. #AdventureBound - adventure, bound\\n</td>\n",
       "      <td>#AdventureBound</td>\n",
       "      <td>[adventure, bound]</td>\n",
       "    </tr>\n",
       "    <tr>\n",
       "      <th>325</th>\n",
       "      <td>126. #MotivationalQuotes - motivational, quote\\n</td>\n",
       "      <td>#MotivationalQuotes</td>\n",
       "      <td>[motivational, quote]</td>\n",
       "    </tr>\n",
       "    <tr>\n",
       "      <th>326</th>\n",
       "      <td>127. #FashionAddict - fashion, addict\\n</td>\n",
       "      <td>#FashionAddict</td>\n",
       "      <td>[fashion, addict]</td>\n",
       "    </tr>\n",
       "    <tr>\n",
       "      <th>327</th>\n",
       "      <td>128. #FoodLover - food, lover\\n</td>\n",
       "      <td>#FoodLover</td>\n",
       "      <td>[food, lover]</td>\n",
       "    </tr>\n",
       "  </tbody>\n",
       "</table>\n",
       "<p>210 rows × 3 columns</p>\n",
       "</div>"
      ],
      "text/plain": [
       "                                    Original Hashtags              Hashtag  \\\n",
       "0                                   1. #Love - love\\n                #Love   \n",
       "1                       2. #InstaGood - insta, good\\n           #InstaGood   \n",
       "2                    3. #PhotoOfTheDay - photo, day\\n       #PhotoOfTheDay   \n",
       "3                             4. #Fashion - fashion\\n             #Fashion   \n",
       "4                         5. #Beautiful - beautiful\\n           #Beautiful   \n",
       "..                                                ...                  ...   \n",
       "323         124. #FamilyVacation - family, vacation\\n      #FamilyVacation   \n",
       "324         125. #AdventureBound - adventure, bound\\n      #AdventureBound   \n",
       "325  126. #MotivationalQuotes - motivational, quote\\n  #MotivationalQuotes   \n",
       "326           127. #FashionAddict - fashion, addict\\n       #FashionAddict   \n",
       "327                   128. #FoodLover - food, lover\\n           #FoodLover   \n",
       "\n",
       "                     Words  \n",
       "0                   [love]  \n",
       "1            [insta, good]  \n",
       "2             [photo, day]  \n",
       "3                [fashion]  \n",
       "4              [beautiful]  \n",
       "..                     ...  \n",
       "323     [family, vacation]  \n",
       "324     [adventure, bound]  \n",
       "325  [motivational, quote]  \n",
       "326      [fashion, addict]  \n",
       "327          [food, lover]  \n",
       "\n",
       "[210 rows x 3 columns]"
      ]
     },
     "execution_count": 87,
     "metadata": {},
     "output_type": "execute_result"
    }
   ],
   "source": [
    "data"
   ]
  },
  {
   "cell_type": "code",
   "execution_count": 88,
   "metadata": {},
   "outputs": [],
   "source": [
    "data.to_csv('hashtag_vocab.csv',index=False)"
   ]
  },
  {
   "cell_type": "code",
   "execution_count": null,
   "metadata": {},
   "outputs": [],
   "source": []
  }
 ],
 "metadata": {
  "interpreter": {
   "hash": "ceb73764460efd0da868fd3694461232e39b0c72628fc13ca7fe2fa760cc7840"
  },
  "kernelspec": {
   "display_name": "Python 3.9.12 64-bit ('venv': venv)",
   "language": "python",
   "name": "python3"
  },
  "language_info": {
   "codemirror_mode": {
    "name": "ipython",
    "version": 3
   },
   "file_extension": ".py",
   "mimetype": "text/x-python",
   "name": "python",
   "nbconvert_exporter": "python",
   "pygments_lexer": "ipython3",
   "version": "3.9.12"
  },
  "orig_nbformat": 4
 },
 "nbformat": 4,
 "nbformat_minor": 2
}
