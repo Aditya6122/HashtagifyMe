{
 "cells": [
  {
   "cell_type": "code",
   "execution_count": 1,
   "id": "77605138-f72f-43b4-92c4-10a47463eb67",
   "metadata": {},
   "outputs": [],
   "source": [
    "import re"
   ]
  },
  {
   "cell_type": "code",
   "execution_count": 75,
   "id": "6fd94c23-7455-4327-9578-d5e988863a1c",
   "metadata": {},
   "outputs": [],
   "source": [
    "with open('separated_hashtags.txt','r') as f:\n",
    "    hashtags = f.readlines()"
   ]
  },
  {
   "cell_type": "code",
   "execution_count": 76,
   "id": "84db7bed-2e7a-4454-ab9c-3cf0ccd56f3c",
   "metadata": {},
   "outputs": [
    {
     "data": {
      "text/plain": [
       "['1. #love: love\\n',\n",
       " '2. #instagood: insta, good\\n',\n",
       " '3. #photooftheday: photo, of, the, day\\n',\n",
       " '4. #tbt: tbt\\n',\n",
       " '5. #selfie: selfie\\n']"
      ]
     },
     "execution_count": 76,
     "metadata": {},
     "output_type": "execute_result"
    }
   ],
   "source": [
    "hashtags[:5]"
   ]
  },
  {
   "cell_type": "code",
   "execution_count": 77,
   "id": "615ef7cd-57f9-40ea-a0b7-0caf2c6555b1",
   "metadata": {
    "tags": []
   },
   "outputs": [],
   "source": [
    "def clean_text(text):\n",
    "    text = re.sub(r'^.*?#', '#', text)\n",
    "    hashtag, words = text.split(\":\")\n",
    "    words = re.sub(r'\\s',' ',words)\n",
    "    words = re.sub(r',',' ',words)\n",
    "    words = words.split(' ')\n",
    "    words = [i for i in words if len(i)!=0]\n",
    "    return hashtag, words"
   ]
  },
  {
   "cell_type": "code",
   "execution_count": 55,
   "id": "4fd9be70-8aa1-4b4c-990e-c440dbc1978d",
   "metadata": {},
   "outputs": [],
   "source": [
    "data = {}\n",
    "for i in range(len(hashtags)):\n",
    "    hashtag,words = clean_text(hashtags[i])\n",
    "    data[hashtag] = words"
   ]
  },
  {
   "cell_type": "code",
   "execution_count": 64,
   "id": "a24ad425-6816-4b72-a85a-7684bcc84f1a",
   "metadata": {},
   "outputs": [],
   "source": [
    "import pandas as pd"
   ]
  },
  {
   "cell_type": "code",
   "execution_count": 65,
   "id": "df68dfd6-76d2-4f58-bc7a-8c121181b8c3",
   "metadata": {},
   "outputs": [],
   "source": [
    "df = pd.DataFrame(list(data.items()),columns=['hashtag','words'])"
   ]
  },
  {
   "cell_type": "code",
   "execution_count": 68,
   "id": "4b384962-79e3-47cf-809f-ed1c38e54080",
   "metadata": {},
   "outputs": [],
   "source": [
    "df.to_csv('hashtag_vocab_new.csv',index=False)"
   ]
  }
 ],
 "metadata": {
  "kernelspec": {
   "display_name": "hashtagify_me",
   "language": "python",
   "name": "hashtagify_me"
  },
  "language_info": {
   "codemirror_mode": {
    "name": "ipython",
    "version": 3
   },
   "file_extension": ".py",
   "mimetype": "text/x-python",
   "name": "python",
   "nbconvert_exporter": "python",
   "pygments_lexer": "ipython3",
   "version": "3.9.12"
  }
 },
 "nbformat": 4,
 "nbformat_minor": 5
}
