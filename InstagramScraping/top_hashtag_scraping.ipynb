{
 "cells": [
  {
   "cell_type": "code",
   "execution_count": null,
   "id": "b63bcf18-43bb-41ca-ae7c-6af569f88250",
   "metadata": {},
   "outputs": [],
   "source": [
    "import requests\n",
    "from bs4 import BeautifulSoup"
   ]
  },
  {
   "cell_type": "code",
   "execution_count": 16,
   "id": "bfbfaf71-2c38-4728-a599-f5310a676322",
   "metadata": {},
   "outputs": [],
   "source": [
    "def scrape_instagram_hashtags(url,output_file):\n",
    "    # Send a GET request to retrieve the HTML content\n",
    "    response = requests.get(url)\n",
    "    soup = BeautifulSoup(response.text, \"html.parser\")\n",
    "\n",
    "    # Find the elements with class \"entry-content\"\n",
    "    entry_content = soup.find(class_=\"entry-content\")\n",
    "\n",
    "    # Find all the \"ol\" elements within \"entry-content\"\n",
    "    ol_elements = entry_content.find_all(\"ol\")\n",
    "\n",
    "    # Create an empty list to store the hashtags\n",
    "    hashtags = []\n",
    "\n",
    "    # Iterate over each \"ol\" element and extract hashtags from \"li\" elements\n",
    "    for ol in ol_elements:\n",
    "        li_elements = ol.find_all(\"li\")\n",
    "        for li in li_elements:\n",
    "            # Find the Instagram hashtag within the \"li\" element\n",
    "            hashtag = li.find(text=lambda t: t.startswith(\"#\"))\n",
    "            if hashtag:\n",
    "                hashtags.append(hashtag)\n",
    "    \n",
    "    with open(output_file, \"w\", encoding=\"utf-8\") as file:\n",
    "        file.write(\"\\n\".join(hashtags))\n"
   ]
  },
  {
   "cell_type": "code",
   "execution_count": 17,
   "id": "5fdba520-ab82-4f43-8dfe-0119e09e5513",
   "metadata": {},
   "outputs": [],
   "source": [
    "# Provide the URL of the webpage\n",
    "webpage_url = \"https://www.mentionlytics.com/blog/top-instagram-hashtags/#for-your-posts\"  # Replace with the actual webpage URL\n",
    "\n",
    "# Provide the output file path\n",
    "output_file = \"top_hashtags.txt\"  # Replace with the desired output file path\n",
    "\n",
    "# Scrape Instagram hashtags from the webpage and store in the output file\n",
    "scrape_instagram_hashtags(webpage_url,output_file)"
   ]
  }
 ],
 "metadata": {
  "kernelspec": {
   "display_name": "hashtagify_me",
   "language": "python",
   "name": "hashtagify_me"
  },
  "language_info": {
   "codemirror_mode": {
    "name": "ipython",
    "version": 3
   },
   "file_extension": ".py",
   "mimetype": "text/x-python",
   "name": "python",
   "nbconvert_exporter": "python",
   "pygments_lexer": "ipython3",
   "version": "3.9.12"
  }
 },
 "nbformat": 4,
 "nbformat_minor": 5
}
