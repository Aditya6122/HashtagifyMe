{
 "cells": [
  {
   "cell_type": "code",
   "execution_count": 42,
   "id": "380a5c45-b859-42cf-8b3e-b5c8bf9dff12",
   "metadata": {},
   "outputs": [],
   "source": [
    "from selenium import webdriver\n",
    "import time\n",
    "import pandas as pd\n",
    "from selenium.webdriver.common.by import By\n",
    "from selenium.webdriver.chrome.service import Service\n",
    "from selenium.webdriver.support.ui import WebDriverWait\n",
    "from selenium.webdriver.support import expected_conditions as EC\n",
    "from selenium.webdriver.common.keys import Keys\n",
    "import credentials\n",
    "from selenium.webdriver.chrome.options import Options"
   ]
  },
  {
   "cell_type": "code",
   "execution_count": 43,
   "id": "71eb104f-eafc-469b-a251-9cc19bcd17c8",
   "metadata": {},
   "outputs": [],
   "source": [
    "def create_webdriver():\n",
    "    service = Service('./chromedriver')\n",
    "    driver = webdriver.Chrome(service=service)\n",
    "    return driver"
   ]
  },
  {
   "cell_type": "code",
   "execution_count": 44,
   "id": "2558a430-2beb-4e27-9857-fbac92182057",
   "metadata": {
    "tags": []
   },
   "outputs": [],
   "source": [
    "def login_instagram(driver):\n",
    "    driver.get('https://www.instagram.com/')\n",
    "    username_input = WebDriverWait(driver, 10).until(EC.presence_of_element_located((By.CSS_SELECTOR, \"input[name='username']\")))\n",
    "    password_input = WebDriverWait(driver, 10).until(EC.presence_of_element_located((By.CSS_SELECTOR, \"input[name='password']\")))\n",
    "    username_input.send_keys(credentials.USER_NAME)\n",
    "    password_input.send_keys(credentials.PASSWORD)\n",
    "    password_input.send_keys(Keys.RETURN)\n",
    "    not_now = WebDriverWait(driver, 10).until(EC.presence_of_element_located((By.XPATH, '//button[@class=\"_a9-- _a9_1\"]')))\n",
    "    not_now.click()\n",
    "    return driver"
   ]
  },
  {
   "cell_type": "code",
   "execution_count": 45,
   "id": "a6475908-1c12-435e-99ac-5e0a9dac02be",
   "metadata": {},
   "outputs": [],
   "source": [
    "def get_hashtags(file_path):\n",
    "    data = pd.read_csv(file_path)\n",
    "    hashtags = data['hashtag']\n",
    "    hashtag_list = list(hashtags.sample(frac = 1))\n",
    "    return hashtag_list"
   ]
  },
  {
   "cell_type": "code",
   "execution_count": 46,
   "id": "07accf1c-3945-40d1-9a4b-a9062bed0b2b",
   "metadata": {},
   "outputs": [],
   "source": [
    "def get_hashtag_data(hashtag,driver):\n",
    "    num_posts = 9\n",
    "    driver.get(f'https://www.instagram.com/explore/tags/{hashtag}/')\n",
    "    post = WebDriverWait(driver, 10).until(EC.presence_of_element_located((By.XPATH, '//div[@class=\"_aabd _aa8k  _al3l\"]')))\n",
    "    post.click()\n",
    "    time.sleep(2)\n",
    "    posts = []\n",
    "    for i in range(num_posts):\n",
    "        post = {}\n",
    "        given_hashtags = driver.find_elements(By.XPATH, '//a[@class=\"x1i10hfl xjbqb8w x6umtig x1b1mbwd xaqea5y xav7gou x9f619 x1ypdohk xt0psk2 xe8uvvx xdj266r x11i5rnm xat24cr x1mh8g0r xexx8yu x4uap5 x18d9i69 xkhd6sd x16tdsg8 x1hl2dhg xggy1nq x1a2a7pz  _aa9_ _a6hd\"]')\n",
    "        img = driver.find_elements(By.XPATH, '//img[@class=\"x5yr21d xu96u03 x10l6tqk x13vifvy x87ps6o xh8yej3\"]')\n",
    "        img = img[i]\n",
    "        post['hashtag'] = hashtag\n",
    "        post['other_hashtags'] = [i.text for i in given_hashtags]\n",
    "        post['image_url'] = img.get_attribute('src')\n",
    "        post['caption'] = img.get_attribute('alt')\n",
    "        if(post['caption'] != ''):\n",
    "            posts.append(post)\n",
    "        try:\n",
    "            driver.find_elements(By.XPATH, '//div[@class=\" _aaqg _aaqh\"]')[-1].click()\n",
    "        except:\n",
    "            print('early')\n",
    "        time.sleep(5)\n",
    "        img = None\n",
    "    return pd.DataFrame(posts)"
   ]
  },
  {
   "cell_type": "code",
   "execution_count": 77,
   "id": "02204689-e5f6-4de6-b8cd-048f2a19ebd7",
   "metadata": {},
   "outputs": [],
   "source": [
    "driver = create_webdriver()"
   ]
  },
  {
   "cell_type": "code",
   "execution_count": 78,
   "id": "2311eba5-591e-4401-b9df-3a546918f6bf",
   "metadata": {},
   "outputs": [],
   "source": [
    "driver = login_instagram(driver)"
   ]
  },
  {
   "cell_type": "code",
   "execution_count": 79,
   "id": "7aa12675-c84c-4400-bb06-461ac4a5176e",
   "metadata": {},
   "outputs": [],
   "source": [
    "hashtag_list = pd.read_csv('hashtags_shuffled.csv')"
   ]
  },
  {
   "cell_type": "code",
   "execution_count": 80,
   "id": "9e234fa6-3083-4e91-8b56-85a2a852e84e",
   "metadata": {},
   "outputs": [],
   "source": [
    "hashtag_list = hashtag_list['0'].to_list()"
   ]
  },
  {
   "cell_type": "code",
   "execution_count": 81,
   "id": "308b3c3f-7a3d-4a57-b515-33c57010d321",
   "metadata": {},
   "outputs": [
    {
     "data": {
      "text/plain": [
       "'#fitgirl'"
      ]
     },
     "execution_count": 81,
     "metadata": {},
     "output_type": "execute_result"
    }
   ],
   "source": [
    "hashtag_list[623]"
   ]
  },
  {
   "cell_type": "code",
   "execution_count": 82,
   "id": "6aa5e816-a598-4abb-91c1-a68019b0832a",
   "metadata": {},
   "outputs": [
    {
     "ename": "TimeoutException",
     "evalue": "Message: \nStacktrace:\nBacktrace:\n\tGetHandleVerifier [0x00B2A813+48355]\n\t(No symbol) [0x00ABC4B1]\n\t(No symbol) [0x009C5358]\n\t(No symbol) [0x009F09A5]\n\t(No symbol) [0x009F0B3B]\n\t(No symbol) [0x00A1E232]\n\t(No symbol) [0x00A0A784]\n\t(No symbol) [0x00A1C922]\n\t(No symbol) [0x00A0A536]\n\t(No symbol) [0x009E82DC]\n\t(No symbol) [0x009E93DD]\n\tGetHandleVerifier [0x00D8AABD+2539405]\n\tGetHandleVerifier [0x00DCA78F+2800735]\n\tGetHandleVerifier [0x00DC456C+2775612]\n\tGetHandleVerifier [0x00BB51E0+616112]\n\t(No symbol) [0x00AC5F8C]\n\t(No symbol) [0x00AC2328]\n\t(No symbol) [0x00AC240B]\n\t(No symbol) [0x00AB4FF7]\n\tBaseThreadInitThunk [0x77617D59+25]\n\tRtlInitializeExceptionChain [0x77D6B74B+107]\n\tRtlClearBits [0x77D6B6CF+191]\n",
     "output_type": "error",
     "traceback": [
      "\u001b[1;31m---------------------------------------------------------------------------\u001b[0m",
      "\u001b[1;31mTimeoutException\u001b[0m                          Traceback (most recent call last)",
      "\u001b[1;32m~\\AppData\\Local\\Temp\\ipykernel_19280\\2056593286.py\u001b[0m in \u001b[0;36m<cell line: 2>\u001b[1;34m()\u001b[0m\n\u001b[0;32m      1\u001b[0m \u001b[0mINSTAGRAM_DATA\u001b[0m \u001b[1;33m=\u001b[0m \u001b[0mpd\u001b[0m\u001b[1;33m.\u001b[0m\u001b[0mDataFrame\u001b[0m\u001b[1;33m(\u001b[0m\u001b[0mcolumns\u001b[0m\u001b[1;33m=\u001b[0m\u001b[1;33m[\u001b[0m\u001b[1;34m'hashtag'\u001b[0m\u001b[1;33m,\u001b[0m\u001b[1;34m'image_url'\u001b[0m\u001b[1;33m,\u001b[0m\u001b[1;34m'caption'\u001b[0m\u001b[1;33m,\u001b[0m\u001b[1;34m'other_hashtags'\u001b[0m\u001b[1;33m]\u001b[0m\u001b[1;33m)\u001b[0m\u001b[1;33m\u001b[0m\u001b[1;33m\u001b[0m\u001b[0m\n\u001b[0;32m      2\u001b[0m \u001b[1;32mfor\u001b[0m \u001b[0mi\u001b[0m \u001b[1;32min\u001b[0m \u001b[0mhashtag_list\u001b[0m\u001b[1;33m[\u001b[0m\u001b[1;36m623\u001b[0m\u001b[1;33m:\u001b[0m\u001b[1;33m]\u001b[0m\u001b[1;33m:\u001b[0m\u001b[1;33m\u001b[0m\u001b[1;33m\u001b[0m\u001b[0m\n\u001b[1;32m----> 3\u001b[1;33m     \u001b[0mhashtag_data\u001b[0m \u001b[1;33m=\u001b[0m \u001b[0mget_hashtag_data\u001b[0m\u001b[1;33m(\u001b[0m\u001b[0mi\u001b[0m\u001b[1;33m[\u001b[0m\u001b[1;36m1\u001b[0m\u001b[1;33m:\u001b[0m\u001b[1;33m]\u001b[0m\u001b[1;33m,\u001b[0m\u001b[0mdriver\u001b[0m\u001b[1;33m)\u001b[0m\u001b[1;33m\u001b[0m\u001b[1;33m\u001b[0m\u001b[0m\n\u001b[0m\u001b[0;32m      4\u001b[0m     \u001b[0mINSTAGRAM_DATA\u001b[0m \u001b[1;33m=\u001b[0m \u001b[0mpd\u001b[0m\u001b[1;33m.\u001b[0m\u001b[0mconcat\u001b[0m\u001b[1;33m(\u001b[0m\u001b[1;33m[\u001b[0m\u001b[0mINSTAGRAM_DATA\u001b[0m\u001b[1;33m,\u001b[0m\u001b[0mhashtag_data\u001b[0m\u001b[1;33m]\u001b[0m\u001b[1;33m,\u001b[0m\u001b[0mignore_index\u001b[0m\u001b[1;33m=\u001b[0m\u001b[1;32mTrue\u001b[0m\u001b[1;33m)\u001b[0m\u001b[1;33m\u001b[0m\u001b[1;33m\u001b[0m\u001b[0m\n",
      "\u001b[1;32m~\\AppData\\Local\\Temp\\ipykernel_19280\\592461325.py\u001b[0m in \u001b[0;36mget_hashtag_data\u001b[1;34m(hashtag, driver)\u001b[0m\n\u001b[0;32m      2\u001b[0m     \u001b[0mnum_posts\u001b[0m \u001b[1;33m=\u001b[0m \u001b[1;36m9\u001b[0m\u001b[1;33m\u001b[0m\u001b[1;33m\u001b[0m\u001b[0m\n\u001b[0;32m      3\u001b[0m     \u001b[0mdriver\u001b[0m\u001b[1;33m.\u001b[0m\u001b[0mget\u001b[0m\u001b[1;33m(\u001b[0m\u001b[1;34mf'https://www.instagram.com/explore/tags/{hashtag}/'\u001b[0m\u001b[1;33m)\u001b[0m\u001b[1;33m\u001b[0m\u001b[1;33m\u001b[0m\u001b[0m\n\u001b[1;32m----> 4\u001b[1;33m     \u001b[0mpost\u001b[0m \u001b[1;33m=\u001b[0m \u001b[0mWebDriverWait\u001b[0m\u001b[1;33m(\u001b[0m\u001b[0mdriver\u001b[0m\u001b[1;33m,\u001b[0m \u001b[1;36m10\u001b[0m\u001b[1;33m)\u001b[0m\u001b[1;33m.\u001b[0m\u001b[0muntil\u001b[0m\u001b[1;33m(\u001b[0m\u001b[0mEC\u001b[0m\u001b[1;33m.\u001b[0m\u001b[0mpresence_of_element_located\u001b[0m\u001b[1;33m(\u001b[0m\u001b[1;33m(\u001b[0m\u001b[0mBy\u001b[0m\u001b[1;33m.\u001b[0m\u001b[0mXPATH\u001b[0m\u001b[1;33m,\u001b[0m \u001b[1;34m'//div[@class=\"_aabd _aa8k  _al3l\"]'\u001b[0m\u001b[1;33m)\u001b[0m\u001b[1;33m)\u001b[0m\u001b[1;33m)\u001b[0m\u001b[1;33m\u001b[0m\u001b[1;33m\u001b[0m\u001b[0m\n\u001b[0m\u001b[0;32m      5\u001b[0m     \u001b[0mpost\u001b[0m\u001b[1;33m.\u001b[0m\u001b[0mclick\u001b[0m\u001b[1;33m(\u001b[0m\u001b[1;33m)\u001b[0m\u001b[1;33m\u001b[0m\u001b[1;33m\u001b[0m\u001b[0m\n\u001b[0;32m      6\u001b[0m     \u001b[0mtime\u001b[0m\u001b[1;33m.\u001b[0m\u001b[0msleep\u001b[0m\u001b[1;33m(\u001b[0m\u001b[1;36m2\u001b[0m\u001b[1;33m)\u001b[0m\u001b[1;33m\u001b[0m\u001b[1;33m\u001b[0m\u001b[0m\n",
      "\u001b[1;32mA:\\Anaconda\\lib\\site-packages\\selenium\\webdriver\\support\\wait.py\u001b[0m in \u001b[0;36muntil\u001b[1;34m(self, method, message)\u001b[0m\n\u001b[0;32m     93\u001b[0m             \u001b[1;32mif\u001b[0m \u001b[0mtime\u001b[0m\u001b[1;33m.\u001b[0m\u001b[0mmonotonic\u001b[0m\u001b[1;33m(\u001b[0m\u001b[1;33m)\u001b[0m \u001b[1;33m>\u001b[0m \u001b[0mend_time\u001b[0m\u001b[1;33m:\u001b[0m\u001b[1;33m\u001b[0m\u001b[1;33m\u001b[0m\u001b[0m\n\u001b[0;32m     94\u001b[0m                 \u001b[1;32mbreak\u001b[0m\u001b[1;33m\u001b[0m\u001b[1;33m\u001b[0m\u001b[0m\n\u001b[1;32m---> 95\u001b[1;33m         \u001b[1;32mraise\u001b[0m \u001b[0mTimeoutException\u001b[0m\u001b[1;33m(\u001b[0m\u001b[0mmessage\u001b[0m\u001b[1;33m,\u001b[0m \u001b[0mscreen\u001b[0m\u001b[1;33m,\u001b[0m \u001b[0mstacktrace\u001b[0m\u001b[1;33m)\u001b[0m\u001b[1;33m\u001b[0m\u001b[1;33m\u001b[0m\u001b[0m\n\u001b[0m\u001b[0;32m     96\u001b[0m \u001b[1;33m\u001b[0m\u001b[0m\n\u001b[0;32m     97\u001b[0m     \u001b[1;32mdef\u001b[0m \u001b[0muntil_not\u001b[0m\u001b[1;33m(\u001b[0m\u001b[0mself\u001b[0m\u001b[1;33m,\u001b[0m \u001b[0mmethod\u001b[0m\u001b[1;33m,\u001b[0m \u001b[0mmessage\u001b[0m\u001b[1;33m:\u001b[0m \u001b[0mstr\u001b[0m \u001b[1;33m=\u001b[0m \u001b[1;34m\"\"\u001b[0m\u001b[1;33m)\u001b[0m\u001b[1;33m:\u001b[0m\u001b[1;33m\u001b[0m\u001b[1;33m\u001b[0m\u001b[0m\n",
      "\u001b[1;31mTimeoutException\u001b[0m: Message: \nStacktrace:\nBacktrace:\n\tGetHandleVerifier [0x00B2A813+48355]\n\t(No symbol) [0x00ABC4B1]\n\t(No symbol) [0x009C5358]\n\t(No symbol) [0x009F09A5]\n\t(No symbol) [0x009F0B3B]\n\t(No symbol) [0x00A1E232]\n\t(No symbol) [0x00A0A784]\n\t(No symbol) [0x00A1C922]\n\t(No symbol) [0x00A0A536]\n\t(No symbol) [0x009E82DC]\n\t(No symbol) [0x009E93DD]\n\tGetHandleVerifier [0x00D8AABD+2539405]\n\tGetHandleVerifier [0x00DCA78F+2800735]\n\tGetHandleVerifier [0x00DC456C+2775612]\n\tGetHandleVerifier [0x00BB51E0+616112]\n\t(No symbol) [0x00AC5F8C]\n\t(No symbol) [0x00AC2328]\n\t(No symbol) [0x00AC240B]\n\t(No symbol) [0x00AB4FF7]\n\tBaseThreadInitThunk [0x77617D59+25]\n\tRtlInitializeExceptionChain [0x77D6B74B+107]\n\tRtlClearBits [0x77D6B6CF+191]\n"
     ]
    }
   ],
   "source": [
    "INSTAGRAM_DATA = pd.DataFrame(columns=['hashtag','image_url','caption','other_hashtags'])\n",
    "for i in hashtag_list[623:]:\n",
    "    hashtag_data = get_hashtag_data(i[1:],driver)\n",
    "    INSTAGRAM_DATA = pd.concat([INSTAGRAM_DATA,hashtag_data],ignore_index=True)"
   ]
  },
  {
   "cell_type": "code",
   "execution_count": 83,
   "id": "3078eeae-244e-4b5d-a510-3e3ef5ce9a98",
   "metadata": {},
   "outputs": [
    {
     "data": {
      "text/html": [
       "<div>\n",
       "<style scoped>\n",
       "    .dataframe tbody tr th:only-of-type {\n",
       "        vertical-align: middle;\n",
       "    }\n",
       "\n",
       "    .dataframe tbody tr th {\n",
       "        vertical-align: top;\n",
       "    }\n",
       "\n",
       "    .dataframe thead th {\n",
       "        text-align: right;\n",
       "    }\n",
       "</style>\n",
       "<table border=\"1\" class=\"dataframe\">\n",
       "  <thead>\n",
       "    <tr style=\"text-align: right;\">\n",
       "      <th></th>\n",
       "      <th>hashtag</th>\n",
       "      <th>image_url</th>\n",
       "      <th>caption</th>\n",
       "      <th>other_hashtags</th>\n",
       "    </tr>\n",
       "  </thead>\n",
       "  <tbody>\n",
       "    <tr>\n",
       "      <th>0</th>\n",
       "      <td>fitgirl</td>\n",
       "      <td>https://instagram.fnag1-1.fna.fbcdn.net/v/t51....</td>\n",
       "      <td>Photo by Michi in Zauchensee with @visitaltenm...</td>\n",
       "      <td>[#zauchensee, #flowers, #gipfelstürmer, #bergl...</td>\n",
       "    </tr>\n",
       "    <tr>\n",
       "      <th>1</th>\n",
       "      <td>fitgirl</td>\n",
       "      <td>https://instagram.fnag1-4.fna.fbcdn.net/v/t51....</td>\n",
       "      <td>Photo by Inez Balina 👸🏼 in Gdansk, Poland with...</td>\n",
       "      <td>[#blondie, #blondynka, #classy, #stayclassy, #...</td>\n",
       "    </tr>\n",
       "    <tr>\n",
       "      <th>2</th>\n",
       "      <td>fitgirl</td>\n",
       "      <td>https://instagram.fnag1-2.fna.fbcdn.net/v/t51....</td>\n",
       "      <td>Photo by 𝗡𝗶𝗰𝗼𝗹𝗲 𝗖𝗶𝗰𝗵𝘂𝘁𝗮 in Wroclaw, Poland. Ma...</td>\n",
       "      <td>[#checkform, #gymgirl, #gymlover, #gymrat, #fi...</td>\n",
       "    </tr>\n",
       "    <tr>\n",
       "      <th>3</th>\n",
       "      <td>fitgirl</td>\n",
       "      <td>https://instagram.fnag1-1.fna.fbcdn.net/v/t51....</td>\n",
       "      <td>Photo by 𝐄𝐌𝐈𝐋𝐘 on July 06, 2023. May be an ima...</td>\n",
       "      <td>[#portraitphotography, #worldportre, #fotoshoo...</td>\n",
       "    </tr>\n",
       "    <tr>\n",
       "      <th>4</th>\n",
       "      <td>fitgirl</td>\n",
       "      <td>https://instagram.fnag1-4.fna.fbcdn.net/v/t51....</td>\n",
       "      <td>Photo by 𝒫𝑒𝓉𝒽𝑜̋ 𝒵𝓈𝓊𝓏𝓈𝒶𝓃𝓃𝒶 in Gyor with @glowbl...</td>\n",
       "      <td>[#reklam, #instagood, #instalike, #ikozosseg, ...</td>\n",
       "    </tr>\n",
       "    <tr>\n",
       "      <th>5</th>\n",
       "      <td>cryptomarket</td>\n",
       "      <td>https://instagram.fnag1-1.fna.fbcdn.net/v/t51....</td>\n",
       "      <td>Photo by BITCOIN MINING TRADING COMPANY ®️ on ...</td>\n",
       "      <td>[#bitcoinnews, #motivation, #forextrader, #cry...</td>\n",
       "    </tr>\n",
       "    <tr>\n",
       "      <th>6</th>\n",
       "      <td>cryptomarket</td>\n",
       "      <td>https://instagram.fnag1-1.fna.fbcdn.net/v/t51....</td>\n",
       "      <td>Photo by The Blockchain Bible on July 04, 2023...</td>\n",
       "      <td>[#cryptocurrency, #cryptocurrencies, #crypto, ...</td>\n",
       "    </tr>\n",
       "    <tr>\n",
       "      <th>7</th>\n",
       "      <td>cryptomarket</td>\n",
       "      <td>https://instagram.fnag1-4.fna.fbcdn.net/v/t51....</td>\n",
       "      <td>Photo by The Ghost Father Of Forex on July 06,...</td>\n",
       "      <td>[#makemoneywhileyousleep, #successiskey, #cryp...</td>\n",
       "    </tr>\n",
       "    <tr>\n",
       "      <th>8</th>\n",
       "      <td>cryptomarket</td>\n",
       "      <td>https://instagram.fnag1-2.fna.fbcdn.net/v/t39....</td>\n",
       "      <td>Photo by Qommodity in Romania. May be an image...</td>\n",
       "      <td>[#cryptotraders, #cryptoexplorer, #cryptominin...</td>\n",
       "    </tr>\n",
       "    <tr>\n",
       "      <th>9</th>\n",
       "      <td>cryptomarket</td>\n",
       "      <td>https://instagram.fnag1-4.fna.fbcdn.net/v/t51....</td>\n",
       "      <td>Photo by SHIBA INU | Metaverse | NFT on July 0...</td>\n",
       "      <td>[#woof, #shibainu, #shibarmy, #shib, #shibariu...</td>\n",
       "    </tr>\n",
       "    <tr>\n",
       "      <th>10</th>\n",
       "      <td>cryptomarket</td>\n",
       "      <td>https://instagram.fnag1-4.fna.fbcdn.net/v/t51....</td>\n",
       "      <td>Photo by SHIBA INU | Metaverse | NFT on July 0...</td>\n",
       "      <td>[#shibainu, #shibarmy, #shib, #shibarium, #blo...</td>\n",
       "    </tr>\n",
       "    <tr>\n",
       "      <th>11</th>\n",
       "      <td>cryptomarket</td>\n",
       "      <td>https://instagram.fnag1-2.fna.fbcdn.net/v/t51....</td>\n",
       "      <td>Photo by crypto.bepace.com🇨🇭 on July 06, 2023....</td>\n",
       "      <td>[#bepace, #cryptoworld, #cryptomarket, #crypto...</td>\n",
       "    </tr>\n",
       "  </tbody>\n",
       "</table>\n",
       "</div>"
      ],
      "text/plain": [
       "         hashtag                                          image_url  \\\n",
       "0        fitgirl  https://instagram.fnag1-1.fna.fbcdn.net/v/t51....   \n",
       "1        fitgirl  https://instagram.fnag1-4.fna.fbcdn.net/v/t51....   \n",
       "2        fitgirl  https://instagram.fnag1-2.fna.fbcdn.net/v/t51....   \n",
       "3        fitgirl  https://instagram.fnag1-1.fna.fbcdn.net/v/t51....   \n",
       "4        fitgirl  https://instagram.fnag1-4.fna.fbcdn.net/v/t51....   \n",
       "5   cryptomarket  https://instagram.fnag1-1.fna.fbcdn.net/v/t51....   \n",
       "6   cryptomarket  https://instagram.fnag1-1.fna.fbcdn.net/v/t51....   \n",
       "7   cryptomarket  https://instagram.fnag1-4.fna.fbcdn.net/v/t51....   \n",
       "8   cryptomarket  https://instagram.fnag1-2.fna.fbcdn.net/v/t39....   \n",
       "9   cryptomarket  https://instagram.fnag1-4.fna.fbcdn.net/v/t51....   \n",
       "10  cryptomarket  https://instagram.fnag1-4.fna.fbcdn.net/v/t51....   \n",
       "11  cryptomarket  https://instagram.fnag1-2.fna.fbcdn.net/v/t51....   \n",
       "\n",
       "                                              caption  \\\n",
       "0   Photo by Michi in Zauchensee with @visitaltenm...   \n",
       "1   Photo by Inez Balina 👸🏼 in Gdansk, Poland with...   \n",
       "2   Photo by 𝗡𝗶𝗰𝗼𝗹𝗲 𝗖𝗶𝗰𝗵𝘂𝘁𝗮 in Wroclaw, Poland. Ma...   \n",
       "3   Photo by 𝐄𝐌𝐈𝐋𝐘 on July 06, 2023. May be an ima...   \n",
       "4   Photo by 𝒫𝑒𝓉𝒽𝑜̋ 𝒵𝓈𝓊𝓏𝓈𝒶𝓃𝓃𝒶 in Gyor with @glowbl...   \n",
       "5   Photo by BITCOIN MINING TRADING COMPANY ®️ on ...   \n",
       "6   Photo by The Blockchain Bible on July 04, 2023...   \n",
       "7   Photo by The Ghost Father Of Forex on July 06,...   \n",
       "8   Photo by Qommodity in Romania. May be an image...   \n",
       "9   Photo by SHIBA INU | Metaverse | NFT on July 0...   \n",
       "10  Photo by SHIBA INU | Metaverse | NFT on July 0...   \n",
       "11  Photo by crypto.bepace.com🇨🇭 on July 06, 2023....   \n",
       "\n",
       "                                       other_hashtags  \n",
       "0   [#zauchensee, #flowers, #gipfelstürmer, #bergl...  \n",
       "1   [#blondie, #blondynka, #classy, #stayclassy, #...  \n",
       "2   [#checkform, #gymgirl, #gymlover, #gymrat, #fi...  \n",
       "3   [#portraitphotography, #worldportre, #fotoshoo...  \n",
       "4   [#reklam, #instagood, #instalike, #ikozosseg, ...  \n",
       "5   [#bitcoinnews, #motivation, #forextrader, #cry...  \n",
       "6   [#cryptocurrency, #cryptocurrencies, #crypto, ...  \n",
       "7   [#makemoneywhileyousleep, #successiskey, #cryp...  \n",
       "8   [#cryptotraders, #cryptoexplorer, #cryptominin...  \n",
       "9   [#woof, #shibainu, #shibarmy, #shib, #shibariu...  \n",
       "10  [#shibainu, #shibarmy, #shib, #shibarium, #blo...  \n",
       "11  [#bepace, #cryptoworld, #cryptomarket, #crypto...  "
      ]
     },
     "execution_count": 83,
     "metadata": {},
     "output_type": "execute_result"
    }
   ],
   "source": [
    "INSTAGRAM_DATA"
   ]
  },
  {
   "cell_type": "code",
   "execution_count": 84,
   "id": "0592ab80-37df-4c37-9e77-3979f0c83538",
   "metadata": {},
   "outputs": [],
   "source": [
    "data = pd.read_csv('instagram_data_2.csv')"
   ]
  },
  {
   "cell_type": "code",
   "execution_count": 69,
   "id": "4f51e60a-ce46-4527-acc3-3abad90bc0c7",
   "metadata": {},
   "outputs": [],
   "source": [
    "data = pd.concat([data,INSTAGRAM_DATA],ignore_index=True,axis=0)"
   ]
  },
  {
   "cell_type": "code",
   "execution_count": 70,
   "id": "d36d7b01-d5b1-41d5-a3ca-653fd6f307f5",
   "metadata": {},
   "outputs": [],
   "source": [
    "data.to_csv('instagram_data.csv',index=False)"
   ]
  },
  {
   "cell_type": "code",
   "execution_count": 71,
   "id": "8db0eec3-50f3-4d02-9cac-68254bfd8ebe",
   "metadata": {},
   "outputs": [],
   "source": [
    "driver.close()"
   ]
  },
  {
   "cell_type": "code",
   "execution_count": null,
   "id": "04bcf797-8094-4049-9caf-22c6b6b494dc",
   "metadata": {},
   "outputs": [],
   "source": []
  }
 ],
 "metadata": {
  "kernelspec": {
   "display_name": "hashtagify_me",
   "language": "python",
   "name": "hashtagify_me"
  },
  "language_info": {
   "codemirror_mode": {
    "name": "ipython",
    "version": 3
   },
   "file_extension": ".py",
   "mimetype": "text/x-python",
   "name": "python",
   "nbconvert_exporter": "python",
   "pygments_lexer": "ipython3",
   "version": "3.9.12"
  }
 },
 "nbformat": 4,
 "nbformat_minor": 5
}
